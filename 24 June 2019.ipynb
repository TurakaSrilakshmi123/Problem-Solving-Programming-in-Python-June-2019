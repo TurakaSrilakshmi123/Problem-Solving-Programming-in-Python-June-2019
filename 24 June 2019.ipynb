{
 "cells": [
  {
   "cell_type": "code",
   "execution_count": 1,
   "metadata": {},
   "outputs": [
    {
     "name": "stdout",
     "output_type": "stream",
     "text": [
      "32X245\n",
      "invalid\n"
     ]
    }
   ],
   "source": [
    "s=input()\n",
    "ans=True\n",
    "for c in s:\n",
    "    if c in 'AIEOUY':\n",
    "        ans=False\n",
    "for i in range(len(s)-1):\n",
    "    if s[i].isdigit() and s[i+1].isdigit() and (int(s[i])+int(s[i+1]))%2:\n",
    "        ans=False\n",
    "\n",
    "print('valid' if ans else 'invalid')"
   ]
  },
  {
   "cell_type": "code",
   "execution_count": null,
   "metadata": {},
   "outputs": [],
   "source": [
    "#  Roy and Profile Picture\n",
    "\n",
    "\n",
    "def profilePic(l,w,h):\n",
    "    if(w<l or h<l):\n",
    "        print(\"UPLOAD ANOTHER\")\n",
    "    elif(w>l and h>l) and (w==h==l):\n",
    "        print(\"ACCEPTED\")\n",
    "    elif(w==h):\n",
    "        print(\"ACCEPTED\")\n",
    "    else:\n",
    "        print(\"CROP IT\")\n",
    "l=int(input())\n",
    "t=int(input())\n",
    "for i in range(1,t+1):\n",
    "    n=input()\n",
    "    x=n.split()\n",
    "    w=int(x[0])\n",
    "    h=int(x[1])\n",
    "    profilePic(l,w,h)"
   ]
  },
  {
   "cell_type": "code",
   "execution_count": null,
   "metadata": {},
   "outputs": [],
   "source": [
    "# frequency distribution of words \n",
    "\n",
    "def freqDistribution1(filepath):\n",
    "    #Dictionaru to be used \n",
    "        #key->unique words\n",
    "        #values->count of unique words\n",
    "    \n",
    "    #two lists\n",
    "         # Allwords list\n",
    "         # Unique words list\n",
    "            \n",
    "    # set"
   ]
  },
  {
   "cell_type": "code",
   "execution_count": null,
   "metadata": {},
   "outputs": [],
   "source": [
    "# Find and replace application\n",
    "    # count the total number of occurances of a word (frequency)\n",
    "    # If word is existing \n",
    "    #  replace all occurances of a word with another word\n",
    "    \n",
    "# Marks Analysis Application\n",
    "     # Generate marks file for n students\n",
    "         # Input : Marks text fille - each line in the text file contains marks of one student\n",
    "     # Generates a report with the following information\n",
    "             # Class Average\n",
    "             # % of students passed\n",
    "             # % of failed students\n",
    "             # % of students with distinction\n",
    "             # Highest marks frequency\n",
    "             # lowest mark frequncy"
   ]
  },
  {
   "cell_type": "code",
   "execution_count": 3,
   "metadata": {},
   "outputs": [],
   "source": [
    "# Function to generate marks data for n students\n",
    "\n",
    "from random import randint\n",
    "def generateMarks(n,lb,ub):\n",
    "    with open('Data Files/marks.txt','w')as f:\n",
    "        for i in range(0,n):\n",
    "            r=randint(lb,ub)\n",
    "            f.write(str(r) + '\\n')\n",
    "    return\n",
    "\n",
    "generateMarks(10,0,100)"
   ]
  },
  {
   "cell_type": "code",
   "execution_count": 4,
   "metadata": {},
   "outputs": [
    {
     "name": "stdout",
     "output_type": "stream",
     "text": [
      "36.7\n"
     ]
    }
   ],
   "source": [
    "# Average of student marks\n",
    "\n",
    "from random import randint\n",
    "def clsAverage(filepath):\n",
    "    count=0\n",
    "    sum=0\n",
    "    with open(filepath,'r')as f:\n",
    "        filedata=f.read().split()\n",
    "        for i in filedata:\n",
    "            sum=sum+int(i)\n",
    "            count=count+1\n",
    "            avg=sum/count\n",
    "        print(avg)\n",
    "        \n",
    "filepath='Data Files/marks.txt'        \n",
    "clsAverage(filepath)"
   ]
  },
  {
   "cell_type": "code",
   "execution_count": 5,
   "metadata": {},
   "outputs": [
    {
     "name": "stdout",
     "output_type": "stream",
     "text": [
      "1\n",
      "2\n",
      "3\n",
      "4\n",
      "5\n",
      "50.0\n"
     ]
    }
   ],
   "source": [
    "# Percentile of passed students\n",
    "\n",
    "def passedStudents(filepath):\n",
    "    count=0\n",
    "    total=0\n",
    "    with open(filepath,'r')as f:\n",
    "        filedata=f.read().split()\n",
    "        for i in filedata:\n",
    "            if(int(i)>=40):\n",
    "                count+=1\n",
    "                print(count)\n",
    "                total=(count/len(filedata))*100\n",
    "        print(total)\n",
    "filepath='Data Files/marks.txt'\n",
    "passedStudents(filepath)"
   ]
  },
  {
   "cell_type": "code",
   "execution_count": 6,
   "metadata": {},
   "outputs": [
    {
     "name": "stdout",
     "output_type": "stream",
     "text": [
      "1\n",
      "2\n",
      "3\n",
      "4\n",
      "5\n",
      "50.0\n"
     ]
    }
   ],
   "source": [
    "# percentile of failed students\n",
    "\n",
    "def failedPercentile(filepath):\n",
    "    count=0\n",
    "    with open(filepath,'r')as f:\n",
    "        filedata=f.read().split()\n",
    "        for i in filedata:\n",
    "            if(int(i)<40):\n",
    "                count+=1\n",
    "                print(count)\n",
    "        total=(count/len(filedata))*100\n",
    "        print(total)\n",
    "filepath='Data Files/marks.txt'\n",
    "failedPercentile(filepath)"
   ]
  },
  {
   "cell_type": "code",
   "execution_count": 7,
   "metadata": {},
   "outputs": [
    {
     "name": "stdout",
     "output_type": "stream",
     "text": [
      "1\n",
      "2\n",
      "20.0\n"
     ]
    }
   ],
   "source": [
    "# percentile of distinction students\n",
    "\n",
    "def distinctionStudents(filepath):\n",
    "    count=0\n",
    "    total=0\n",
    "    with open(filepath,'r')as f:\n",
    "        filedata=f.read().split()\n",
    "        for i in filedata:\n",
    "            if(int(i)>=70):\n",
    "                count+=1\n",
    "                print(count)\n",
    "                total=(count/len(filedata))*100\n",
    "        print(total)\n",
    "filepath='Data Files/marks.txt'\n",
    "distinctionStudents(filepath)"
   ]
  },
  {
   "cell_type": "code",
   "execution_count": 8,
   "metadata": {},
   "outputs": [
    {
     "name": "stdout",
     "output_type": "stream",
     "text": [
      "0 0 0 0 0 0 0 0 0 0 "
     ]
    }
   ],
   "source": [
    "# find highest frequency \n",
    "\n",
    "def highestFrequency(filepath):\n",
    "    with open(filepath,'r') as f:\n",
    "        filedata=f.read().split()\n",
    "        allnumbers=[]\n",
    "        for i in filedata:\n",
    "            if i.isdigit():\n",
    "                allnumbers.append(i)\n",
    "        for j in range(90,100):\n",
    "            if str(j) not in filedata:\n",
    "                print(0,end=' ')\n",
    "            else:\n",
    "                count=allnumbers.count(str(j))\n",
    "                print(count,end=' ')\n",
    "                \n",
    "filepath='Data Files/marks.txt'                \n",
    "highestFrequency(filepath)"
   ]
  },
  {
   "cell_type": "code",
   "execution_count": 9,
   "metadata": {},
   "outputs": [
    {
     "name": "stdout",
     "output_type": "stream",
     "text": [
      "0 1 0 0 0 0 0 0 0 "
     ]
    }
   ],
   "source": [
    "def lowestFrequency(filepath):\n",
    "    with open(filepath,'r') as f:\n",
    "        filedata=f.read().split()\n",
    "        allnumbers=[]\n",
    "        for i in filedata:\n",
    "            if i.isdigit():\n",
    "                allnumbers.append(i)\n",
    "        for j in range(1,10):\n",
    "            if str(j) not in filedata:\n",
    "                print(0,end=' ')\n",
    "            else:\n",
    "                count=allnumbers.count(str(j))\n",
    "                print(count,end=' ')\n",
    "                \n",
    "filepath='Data Files/marks.txt'                \n",
    "lowestFrequency(filepath)"
   ]
  },
  {
   "cell_type": "code",
   "execution_count": null,
   "metadata": {},
   "outputs": [],
   "source": []
  },
  {
   "cell_type": "code",
   "execution_count": null,
   "metadata": {},
   "outputs": [],
   "source": []
  },
  {
   "cell_type": "code",
   "execution_count": null,
   "metadata": {},
   "outputs": [],
   "source": []
  },
  {
   "cell_type": "code",
   "execution_count": null,
   "metadata": {},
   "outputs": [],
   "source": []
  },
  {
   "cell_type": "code",
   "execution_count": null,
   "metadata": {},
   "outputs": [],
   "source": []
  },
  {
   "cell_type": "code",
   "execution_count": null,
   "metadata": {},
   "outputs": [],
   "source": []
  },
  {
   "cell_type": "code",
   "execution_count": null,
   "metadata": {},
   "outputs": [],
   "source": []
  },
  {
   "cell_type": "code",
   "execution_count": null,
   "metadata": {},
   "outputs": [],
   "source": []
  }
 ],
 "metadata": {
  "kernelspec": {
   "display_name": "Python 3",
   "language": "python",
   "name": "python3"
  },
  "language_info": {
   "codemirror_mode": {
    "name": "ipython",
    "version": 3
   },
   "file_extension": ".py",
   "mimetype": "text/x-python",
   "name": "python",
   "nbconvert_exporter": "python",
   "pygments_lexer": "ipython3",
   "version": "3.7.3"
  }
 },
 "nbformat": 4,
 "nbformat_minor": 2
}
