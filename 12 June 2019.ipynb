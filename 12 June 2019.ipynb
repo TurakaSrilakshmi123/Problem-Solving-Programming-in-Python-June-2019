{
 "cells": [
  {
   "cell_type": "markdown",
   "metadata": {},
   "source": [
    "## Problem Solving and Programming\n",
    "#### Date 12 June 2019\n",
    "#### String Slicing\n",
    "#### Day Objectives \n",
    "- Functions in Python\n",
    "- Basic Problems related to conditional statements using functions\n",
    "- Iteration in Python\n",
    "- Problemset for practice"
   ]
  },
  {
   "cell_type": "markdown",
   "metadata": {},
   "source": [
    "##  String Slicing"
   ]
  },
  {
   "cell_type": "code",
   "execution_count": 22,
   "metadata": {},
   "outputs": [
    {
     "data": {
      "text/plain": [
       "'nohtyP'"
      ]
     },
     "execution_count": 22,
     "metadata": {},
     "output_type": "execute_result"
    }
   ],
   "source": [
    "s1 = \"Python\"\n",
    "s1[0] # Accessing the first character in a string\n",
    "s1[1] # Accessing the second character in a string\n",
    "s1[len(s1)-1] # Accessing the last character in a string\n",
    "s1[-1] # Another way of accessing the last character\n",
    "s1[-2] # Accessing the penulatimate character in a string\n",
    "s1[0:2] # Accessing the first 2 characters in string\n",
    "s1[-2:] # Accessing the last 2 characters in string\n",
    "s1[4:] # Accessing all characters 5th character to end of string\n",
    "s1[1:-1] # Accessing all characters except first and last in string\n",
    "s1[len(s1)//2] # Accessing the middle characters in string\n",
    "s1[-1::-1] # reverse of a string\n",
    "s1[-1:-3:-1] # Accessing last two characters in reverse order\n",
    "# Reverse the middle two characters in an even length string\n",
    "s1[len(s1)//2:len(s1)//2-2:-1]\n",
    "# Accessing alternate characters in a string\n",
    "# \"python\" -> \"pto\"\n",
    "s1[::2]\n",
    "# Accessing alteranate characters of a string in reverse order\n",
    "# \"Python\" -> \"nhy\"\n",
    "s1[::-2]\n",
    "s1[::-1]"
   ]
  },
  {
   "cell_type": "markdown",
   "metadata": {},
   "source": []
  },
  {
   "cell_type": "code",
   "execution_count": null,
   "metadata": {},
   "outputs": [],
   "source": []
  },
  {
   "cell_type": "markdown",
   "metadata": {},
   "source": [
    "## Functions"
   ]
  },
  {
   "cell_type": "code",
   "execution_count": 21,
   "metadata": {},
   "outputs": [
    {
     "data": {
      "text/plain": [
       "'nohtyP'"
      ]
     },
     "execution_count": 21,
     "metadata": {},
     "output_type": "execute_result"
    }
   ],
   "source": [
    "# Function to reverse a string\n",
    "def reverseString(s):\n",
    "    return s[::-1]\n",
    "\n",
    "reverseString(\"Python\")"
   ]
  },
  {
   "cell_type": "code",
   "execution_count": 27,
   "metadata": {},
   "outputs": [
    {
     "data": {
      "text/plain": [
       "True"
      ]
     },
     "execution_count": 27,
     "metadata": {},
     "output_type": "execute_result"
    }
   ],
   "source": [
    "# Function to check if a string is a palindrome\n",
    "def palindrome(s):\n",
    "    if s==s[::-1]:\n",
    "        return True\n",
    "    else:\n",
    "        return False\n",
    "palindrome(\"121\")"
   ]
  },
  {
   "cell_type": "code",
   "execution_count": 3,
   "metadata": {},
   "outputs": [
    {
     "data": {
      "text/plain": [
       "True"
      ]
     },
     "execution_count": 3,
     "metadata": {},
     "output_type": "execute_result"
    }
   ],
   "source": [
    "# Function to check if a given year is a leap year\n",
    "def isLeapYear(year):\n",
    "    if(year % 400 == 0 or (year % 100 !=0 and year % 4 == 0)):\n",
    "        return True\n",
    "    return False\n",
    "isLeapYear(2016)\n",
    "\n",
    "    "
   ]
  },
  {
   "cell_type": "code",
   "execution_count": 43,
   "metadata": {},
   "outputs": [
    {
     "data": {
      "text/plain": [
       "10"
      ]
     },
     "execution_count": 43,
     "metadata": {},
     "output_type": "execute_result"
    }
   ],
   "source": [
    "# Function to Count the Number of digits in given number\n",
    "def countDigits(n):\n",
    "    return len(str(n))\n",
    "countDigits(1345489075)\n"
   ]
  },
  {
   "cell_type": "code",
   "execution_count": 44,
   "metadata": {},
   "outputs": [
    {
     "data": {
      "text/plain": [
       "2500"
      ]
     },
     "execution_count": 44,
     "metadata": {},
     "output_type": "execute_result"
    }
   ],
   "source": [
    "# Function to identify the greatest of 4 numbers\n",
    "def greatest (n1,n2,n3,n4):\n",
    "    if (n1>n2 and n1>n3 and n1>n4):\n",
    "        return n1\n",
    "    elif (n2>n3 and n2>n4):\n",
    "        return n2\n",
    "    elif (n3>n4):\n",
    "        return n3\n",
    "    return n4\n",
    "greatest(20,100,24,2500)\n",
    "        "
   ]
  },
  {
   "cell_type": "code",
   "execution_count": null,
   "metadata": {},
   "outputs": [],
   "source": []
  },
  {
   "cell_type": "markdown",
   "metadata": {},
   "source": [
    "### Iteration\n",
    "\n",
    "- for \n",
    "- while\n",
    "\n",
    "##### For Loop in Python\n",
    "\n",
    "[101,210]      (inclsuive,exclusive)\n",
    "for i in range(101,211):\n",
    "    print i\n",
    "    \n",
    "o/p:-\n",
    " 101\n",
    " 102\n",
    " .\n",
    " .\n",
    " 210\n",
    " for i in range (lb,ub+1)\n",
    " here inclusive means add +1 to the number\n",
    "\n",
    "\n",
    "\n"
   ]
  },
  {
   "cell_type": "code",
   "execution_count": 4,
   "metadata": {},
   "outputs": [
    {
     "name": "stdout",
     "output_type": "stream",
     "text": [
      "1 2 3 4 5 6 7 8 9 10 11 12 13 14 15 \n",
      "1 2 3 4 5 6 7 8 9 10 \n"
     ]
    }
   ],
   "source": [
    "# Function print n natural numbers\n",
    "\n",
    "def numbers(n):\n",
    "    for counter in range(1, n+1):\n",
    "        print(counter, end=\" \")\n",
    "    print()\n",
    "    return\n",
    "    \n",
    "numbers(15)\n",
    "numbers(10)\n",
    "        "
   ]
  },
  {
   "cell_type": "code",
   "execution_count": 5,
   "metadata": {},
   "outputs": [
    {
     "name": "stdout",
     "output_type": "stream",
     "text": [
      "1 2 3 4 5 6 7 8 9 10 "
     ]
    }
   ],
   "source": [
    "# Function to print N Natural numbers using a while loop\n",
    "def nNaturalNumbers(n):\n",
    "    counter = 1\n",
    "\n",
    "    while counter <= n:\n",
    "        print (counter, end=\" \")\n",
    "        counter = counter + 1\n",
    "    return\n",
    "nNaturalNumbers(10)"
   ]
  },
  {
   "cell_type": "code",
   "execution_count": 14,
   "metadata": {},
   "outputs": [
    {
     "name": "stdout",
     "output_type": "stream",
     "text": [
      "500 501 502 503 504 505 506 507 508 509 510 511 512 513 514 515 516 517 518 519 520 521 522 523 524 525 526 527 528 529 530 531 532 533 534 535 536 537 538 539 540 541 542 543 544 545 546 547 548 549 550 "
     ]
    }
   ],
   "source": [
    "# Function to print the alternate values in a range in the same line\n",
    "#[500,550] -> 500,502,504...550 \n",
    "#square brackets represents inclusive & normal brackets represens exclusive set in mathematics\n",
    "#alterante values means leaving one go to the next\n",
    "#(500,550) -> 501,503,505....549\n",
    "#range(500,550)-> 500 501 502 .... 549\n",
    "# All set based functions in Python have start\n",
    "def alternatevalues(start, end):\n",
    "    for counter in range(start, end+1):\n",
    "        print(counter , end =\" \")\n",
    "    return\n",
    "alternatevalues(500,550)"
   ]
  },
  {
   "cell_type": "code",
   "execution_count": 15,
   "metadata": {},
   "outputs": [
    {
     "name": "stdout",
     "output_type": "stream",
     "text": [
      "500 502 504 506 508 510 512 514 516 518 520 522 524 526 528 530 532 534 536 538 540 542 544 546 548 550 "
     ]
    }
   ],
   "source": [
    "# Function to print the alternate values in a range in the same line\n",
    "#[500,550] -> 500,502,504...550 \n",
    "def alternatevalues(start, end):\n",
    "    for counter in range(start, end+1, 2):\n",
    "        print(counter , end =\" \")\n",
    "    return\n",
    "alternatevalues(500,550)"
   ]
  },
  {
   "cell_type": "code",
   "execution_count": 19,
   "metadata": {},
   "outputs": [
    {
     "name": "stdout",
     "output_type": "stream",
     "text": [
      "500 504 508 512 516 520 524 528 532 536 540 544 548 "
     ]
    }
   ],
   "source": [
    "def alternatevalues(start, end):\n",
    "    for counter in range(start, end+1, 4):\n",
    "        print(counter , end =\" \")\n",
    "    return\n",
    "alternatevalues(500,550)"
   ]
  },
  {
   "cell_type": "code",
   "execution_count": 31,
   "metadata": {},
   "outputs": [
    {
     "name": "stdout",
     "output_type": "stream",
     "text": [
      "550 549 548 547 546 545 544 543 542 541 540 539 538 537 536 535 534 533 532 531 530 529 528 527 526 525 524 523 522 521 520 519 518 517 516 515 514 513 512 511 510 509 508 507 506 505 504 503 502 501 500 "
     ]
    }
   ],
   "source": [
    "# Function to print reverse of given range in the same line\n",
    "def reverserange(start, end):\n",
    "    for counter in range(end,start-1,-1):\n",
    "        print(counter , end =\" \")\n",
    "    return\n",
    "reverserange(500,550)"
   ]
  },
  {
   "cell_type": "code",
   "execution_count": 34,
   "metadata": {},
   "outputs": [
    {
     "name": "stdout",
     "output_type": "stream",
     "text": [
      "549 547 545 543 541 539 537 535 533 531 529 527 525 523 521 519 517 515 513 511 509 507 505 503 501 "
     ]
    }
   ],
   "source": [
    "#Function to print the odd numbers in reverse order in the same line\n",
    "def reverseoddrange(start, end):\n",
    "    for counter in range(end,start-1, -1):\n",
    "        if(counter%2!=0):\n",
    "            print(counter , end =\" \")\n",
    "    return\n",
    "reverseoddrange(500,550)"
   ]
  },
  {
   "cell_type": "code",
   "execution_count": 1,
   "metadata": {},
   "outputs": [
    {
     "data": {
      "text/plain": [
       "15150"
      ]
     },
     "execution_count": 1,
     "metadata": {},
     "output_type": "execute_result"
    }
   ],
   "source": [
    "#Function to calculate the sum of numbers in a range\n",
    "def sumofrange(start, end):\n",
    "    sum=0\n",
    "    for counter in range(start,end+1):\n",
    "        sum = sum+counter\n",
    "    return sum\n",
    "sumofrange(100,200)"
   ]
  },
  {
   "cell_type": "code",
   "execution_count": 10,
   "metadata": {},
   "outputs": [
    {
     "data": {
      "text/plain": [
       "5.5"
      ]
     },
     "execution_count": 10,
     "metadata": {},
     "output_type": "execute_result"
    }
   ],
   "source": [
    "#Function to calculate the average of a given range\n",
    "def averagerange(start, end):\n",
    "    sum=0\n",
    "   # count=0\n",
    "    for i in range(start,end+1):\n",
    "        sum = sum+i # sum calculation\n",
    "        #count+=1    # counting number of values\n",
    "    return sum/(end-start+1)\n",
    "averagerange(1,10)"
   ]
  },
  {
   "cell_type": "code",
   "execution_count": 8,
   "metadata": {},
   "outputs": [
    {
     "data": {
      "text/plain": [
       "6"
      ]
     },
     "execution_count": 8,
     "metadata": {},
     "output_type": "execute_result"
    }
   ],
   "source": [
    "# Function to generate the leap years count in a given time period\n",
    "def leapyear(start,end):\n",
    "    counter=0\n",
    "    for i in range (start,end+1):\n",
    "        if (i%400==0 or (i%4==0 and i%100!=0)):\n",
    "            counter+=1\n",
    "    return counter\n",
    "    \n",
    "leapyear(2000,2020)        \n",
    "    \n",
    "    \n"
   ]
  },
  {
   "cell_type": "code",
   "execution_count": 13,
   "metadata": {},
   "outputs": [
    {
     "name": "stdout",
     "output_type": "stream",
     "text": [
      "1920 1924 1928 1932 1936 1940 1944 1948 1952 1956 1960 1964 1968 1972 1976 1980 1984 1988 1992 1996 2000 2004 2008 2012 2016 "
     ]
    }
   ],
   "source": [
    "# Function to generate the leap years in a given time period\n",
    "def generateLeapYears(start,end):\n",
    "    for year in range (start,end+1):\n",
    "        if isLeapYear (year):\n",
    "            print(year,end=\" \")\n",
    "    return\n",
    "generateLeapYears(1919,2019)        \n",
    "    \n",
    "    \n"
   ]
  },
  {
   "cell_type": "code",
   "execution_count": 131,
   "metadata": {},
   "outputs": [
    {
     "data": {
      "text/plain": [
       "731"
      ]
     },
     "execution_count": 131,
     "metadata": {},
     "output_type": "execute_result"
    }
   ],
   "source": [
    "#Calcualte number of days in a givne time period using leapyear logic\n",
    "def numberofdays(startyear,endyear):\n",
    "    sum=0\n",
    "    for year in range (startyear,endyear+1):\n",
    "        if isLeapYear (year):\n",
    "            sum= sum + 366\n",
    "        else:\n",
    "            sum=sum + 365\n",
    "    return sum\n",
    "numberofdays(1920,1921)        \n",
    "    \n",
    "    "
   ]
  },
  {
   "cell_type": "code",
   "execution_count": 5,
   "metadata": {},
   "outputs": [
    {
     "data": {
      "text/plain": [
       "1464"
      ]
     },
     "execution_count": 5,
     "metadata": {},
     "output_type": "execute_result"
    }
   ],
   "source": [
    "# Function to calculate number of hours for a given period \n",
    "#(11,1975,03,1999)->204504\n",
    "#mathematical logic: \n",
    "#number of hours(5,2019,6,2019) ->1464 (61*24)\n",
    "\n",
    "def numberofDaysMonth(month,year):\n",
    "    if month ==2:\n",
    "        if isLeapYear (year):\n",
    "            return 29\n",
    "        return 28\n",
    "    elif (month<=7 and month % 2!=0) or (month>=8 and month % 2==0) :\n",
    "        return 31\n",
    "    else:\n",
    "        return 30\n",
    "\n",
    "def daysInStartYear(startmonth, startyear):\n",
    "    days=0\n",
    "    for month in range(startmonth,13):\n",
    "        days+= numberofDaysMonth(month,startyear)\n",
    "    return days\n",
    "\n",
    "def daysInEndYear(endmonth, endyear):\n",
    "    days=0\n",
    "    for month in range(1,endmonth+1):\n",
    "        days+= numberofDaysMonth(month,endyear)\n",
    "    return days\n",
    "\n",
    "def numberofhours(startmonth,startyear,endmonth,endyear):\n",
    "    days = 0\n",
    "    if startyear != endyear:\n",
    "        days += daysInStartYear(startmonth, startyear)\n",
    "        days += daysInEndYear(endmonth, endyear)\n",
    "        if endyear - startyear == 2: # 2019 - 2017\n",
    "            days += numberOfDays(startyear+1, startyear+1)\n",
    "        elif endyear - startyear > 2:\n",
    "            days += numberOfDays(startyear+1, endyear-1)\n",
    "    else:\n",
    "        for month in range(startmonth, endmonth+1):\n",
    "            days += numberofDaysMonth(month, startyear)\n",
    "    return 24 * days\n",
    "\n",
    "numberofhours (6,2018,7,2018)"
   ]
  },
  {
   "cell_type": "code",
   "execution_count": null,
   "metadata": {},
   "outputs": [],
   "source": [
    "# Function to print all numbers  divisible by 6 and \n",
    "# not a factor of 100 in a given range(lb,ub)\n",
    "\n",
    "def divisibleby(lb,ub):\n",
    "    for i in range(lb,ub+1):\n",
    "        if(i%6==0 and i%100!=0):\n",
    "            print (i,end=\" \")\n",
    "            \n",
    "divisibleby(1,600)\n",
    "        "
   ]
  },
  {
   "cell_type": "code",
   "execution_count": 46,
   "metadata": {},
   "outputs": [
    {
     "data": {
      "text/plain": [
       "8.0"
      ]
     },
     "execution_count": 46,
     "metadata": {},
     "output_type": "execute_result"
    }
   ],
   "source": [
    "# Function to find the average of cubes all even numbers\n",
    "# in a given range (lb,ub) inclusive\n",
    "# 1,10 -> 2,4,6,8,10 -> avg(8,64,216,)\n",
    "def avgCubesEven(lb,ub):\n",
    "    sum=0\n",
    "    count=0\n",
    "    for i in range(lb,ub+1):\n",
    "        if i%2==0:\n",
    "            sum += i**3\n",
    "            count+=1\n",
    "    return sum/ count\n",
    "avgCubesEven(1,3)"
   ]
  },
  {
   "cell_type": "code",
   "execution_count": 46,
   "metadata": {},
   "outputs": [
    {
     "data": {
      "text/plain": [
       "6"
      ]
     },
     "execution_count": 46,
     "metadata": {},
     "output_type": "execute_result"
    }
   ],
   "source": [
    "# Function to generate the list of factors for a given number is \n",
    "# 12 -> 1 2 3 4 6 12\n",
    "def factorsList(n):\n",
    "    sum=0\n",
    "    for i in range(1, n//2+1):\n",
    "        if n%i== 0:\n",
    "            sum+=i\n",
    "            #print (i, end=\" \")\n",
    "    #print(n)\n",
    "    return sum\n",
    "factorslist(6)"
   ]
  },
  {
   "cell_type": "code",
   "execution_count": 29,
   "metadata": {},
   "outputs": [
    {
     "data": {
      "text/plain": [
       "120"
      ]
     },
     "execution_count": 29,
     "metadata": {},
     "output_type": "execute_result"
    }
   ],
   "source": [
    "# Function to calculate the factorial of a given number\n",
    "\n",
    "def factorial(n):\n",
    "    fact = 1\n",
    "   # sum=0\n",
    "    for i in range (1, n+1):\n",
    "        fact *= i\n",
    "        #sum=sum+fact\n",
    "   # return sum\n",
    "    return fact\n",
    "    \n",
    "factorial(5)\n",
    "        "
   ]
  },
  {
   "cell_type": "code",
   "execution_count": 11,
   "metadata": {},
   "outputs": [
    {
     "data": {
      "text/plain": [
       "False"
      ]
     },
     "execution_count": 11,
     "metadata": {},
     "output_type": "execute_result"
    }
   ],
   "source": [
    "# Function to check if a given number is prime\n",
    "def isprime(n):\n",
    "    flag=True\n",
    "    for i in range(2,n//2+1):\n",
    "        if n%i==0:\n",
    "            flag=False\n",
    "        return flag\n",
    "    \n",
    "isprime(4)\n",
    "        "
   ]
  },
  {
   "cell_type": "code",
   "execution_count": 37,
   "metadata": {},
   "outputs": [
    {
     "name": "stdout",
     "output_type": "stream",
     "text": [
      "2\n",
      "3\n",
      "5\n",
      "7\n",
      "11\n",
      "13\n",
      "17\n",
      "19\n",
      "23\n",
      "29\n"
     ]
    },
    {
     "data": {
      "text/plain": [
       "12.9"
      ]
     },
     "execution_count": 37,
     "metadata": {},
     "output_type": "execute_result"
    }
   ],
   "source": [
    "# Function to calculate the average first N prime numbers\n",
    "\n",
    "def avgNPrimes(n):\n",
    "    primeCount = 0\n",
    "    sum = 0\n",
    "    seqCount = 2\n",
    "    while(primeCount < n):\n",
    "        if isprime(seqCount):\n",
    "            primeCount += 1\n",
    "            sum += seqCount\n",
    "            print(seqCount)\n",
    "        seqCount += 1\n",
    "    return sum/primeCount\n",
    "\n",
    "\n",
    "avgNPrimes(10)\n",
    "        \n",
    "        \n",
    "    "
   ]
  },
  {
   "cell_type": "code",
   "execution_count": 28,
   "metadata": {},
   "outputs": [
    {
     "name": "stdout",
     "output_type": "stream",
     "text": [
      "6 28 496 8128 "
     ]
    }
   ],
   "source": [
    "# Function to generate all perfect numbers in a given range\n",
    "\n",
    "#Perfect Number - Sum of all its factors is equal to the number\n",
    "#6 - 1, 2, 3\n",
    "def factorsList(n):\n",
    "    sum=0\n",
    "    for i in range(1, n//2+1):\n",
    "        if n%i== 0:\n",
    "            sum+=i\n",
    "            #print (i, end=\" \")\n",
    "    #print(n)\n",
    "    return sum\n",
    "def isPerfect(n):\n",
    "    if factorsList(n) == n:\n",
    "        return True\n",
    "    return False\n",
    "\n",
    "def generatePerfect(lb, ub):\n",
    "    for i in range(lb, ub+1):\n",
    "        if isPerfect(i):\n",
    "            print(i, end=\" \")\n",
    "    return\n",
    "\n",
    "generatePerfect(1, 10000)"
   ]
  },
  {
   "cell_type": "markdown",
   "metadata": {},
   "source": [
    "## Advanced Problem Set"
   ]
  },
  {
   "cell_type": "code",
   "execution_count": 107,
   "metadata": {},
   "outputs": [
    {
     "data": {
      "text/plain": [
       "3.0"
      ]
     },
     "execution_count": 107,
     "metadata": {},
     "output_type": "execute_result"
    }
   ],
   "source": [
    "#Function to calculate  average of all factorials in a given range\n",
    "def averageproductoffactorials(lb,ub):\n",
    "    sum=0\n",
    "    count=0\n",
    "    for i in range(lb,ub+1):\n",
    "         if factorial(i):\n",
    "                sum+=i\n",
    "                count+=1\n",
    "    return sum/count\n",
    "        \n",
    "averageproductoffactorials(1,5)\n",
    "            \n"
   ]
  },
  {
   "cell_type": "code",
   "execution_count": 106,
   "metadata": {},
   "outputs": [],
   "source": [
    "#Function to generate Multiplication tables for a number in a given range\n",
    "#10 in the range(100,103) inclusive\n",
    "#10 x 100 =1000\n",
    "#10 x 101 =1010\n",
    "#10 x 102 = 1020\n",
    "#10 x 103 =1030\n",
    "def mul(a,b):\n",
    "    counter=1\n",
    "    for i in range(a,b+1):\n",
    "        counter*=i\n",
    "    \n",
    "mul(10,10)\n",
    "\n"
   ]
  },
  {
   "cell_type": "code",
   "execution_count": null,
   "metadata": {},
   "outputs": [],
   "source": [
    "# Function to generate N odd armstrong numbers"
   ]
  },
  {
   "cell_type": "markdown",
   "metadata": {},
   "source": []
  }
 ],
 "metadata": {
  "kernelspec": {
   "display_name": "Python 3",
   "language": "python",
   "name": "python3"
  },
  "language_info": {
   "codemirror_mode": {
    "name": "ipython",
    "version": 3
   },
   "file_extension": ".py",
   "mimetype": "text/x-python",
   "name": "python",
   "nbconvert_exporter": "python",
   "pygments_lexer": "ipython3",
   "version": "3.7.3"
  }
 },
 "nbformat": 4,
 "nbformat_minor": 2
}
