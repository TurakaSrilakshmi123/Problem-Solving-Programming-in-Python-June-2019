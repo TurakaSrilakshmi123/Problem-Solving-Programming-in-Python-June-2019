{
 "cells": [
  {
   "cell_type": "code",
   "execution_count": 1,
   "metadata": {},
   "outputs": [
    {
     "name": "stdout",
     "output_type": "stream",
     "text": [
      "0 1 1 1 1 1 1 0 0 0 "
     ]
    }
   ],
   "source": [
    "### Find frequency of digits and alphabets\n",
    "# s= 123abc456def\n",
    "\n",
    "def uniqueData(allnumbers):\n",
    "    unique=[]\n",
    "    for n in allnumbers:\n",
    "        if n not in unique:\n",
    "            unique.append(n)\n",
    "    return unique\n",
    "\n",
    "def digitFrequency1(s):\n",
    "    allnumbers=[]\n",
    "    for i in s:\n",
    "        if i.isdigit():\n",
    "            allnumbers.append(i)\n",
    "    unique=uniqueData(allnumbers)\n",
    "    for i in range(0,10):\n",
    "        if str(i) not in unique:\n",
    "            print(0,end=' ')\n",
    "        else:\n",
    "            count=allnumbers.count(str(i))\n",
    "            print(count,end=' ')\n",
    "digitFrequency1('123abc456def')"
   ]
  },
  {
   "cell_type": "code",
   "execution_count": 2,
   "metadata": {},
   "outputs": [
    {
     "name": "stdout",
     "output_type": "stream",
     "text": [
      "0\n"
     ]
    }
   ],
   "source": [
    "def digitFrequency2(s):\n",
    "    for i in range(0,10):\n",
    "        count=s.count(str(i))\n",
    "    print(count)\n",
    "digitFrequency2('123abc456def')"
   ]
  },
  {
   "cell_type": "code",
   "execution_count": 4,
   "metadata": {},
   "outputs": [
    {
     "data": {
      "text/plain": [
       "3"
      ]
     },
     "execution_count": 4,
     "metadata": {},
     "output_type": "execute_result"
    }
   ],
   "source": [
    "# FUNCTION TO CHECK IF TWO STRINGS ARE ANAGRAMS OR NOT\n",
    "# abc  cba -> True\n",
    "# aabbcc  ccbbaaa ->False\n",
    "\n",
    "def checkAnagram(s1,s2):\n",
    "    if len(s1)!=len(s2):\n",
    "        return False\n",
    "    elif sorted(s1)==sorted(s2):\n",
    "        return True\n",
    "    return False\n",
    "\n",
    "def charDeletionsAnagrams(s1,s2):\n",
    "    # to collect all uncommon characters-characters in only one string\n",
    "    uncommon=[]\n",
    "    for i in s1:\n",
    "        if i not in s2:\n",
    "            uncommon.append(i)\n",
    "    for i in s2:\n",
    "        if i not in s1:\n",
    "            uncommon.append(i)\n",
    "    count=len(uncommon)\n",
    "    # freqs1-> frequency of common characters in s1\n",
    "    freqs1={}\n",
    "    freqs2={}\n",
    "    # uniqs1->unique characters in s1\n",
    "    uniqs1=[]\n",
    "    uniqs2=[]\n",
    "    # frequency of common unique characters in s1\n",
    "    for i in s1:\n",
    "        if i not in uncommon and i not in uniqs1:\n",
    "            freqs1[i]=s1.count(i)\n",
    "            uniqs1.append(i)\n",
    "    # frequency of unique characters in s2        \n",
    "    for i in s2:\n",
    "        if i not in uncommon and i not in uniqs2:\n",
    "            freqs2[i]=s2.count(i)\n",
    "            uniqs2.append(i)\n",
    "    # Difference in frequencies for common characters and add the different characters        \n",
    "    for key in freqs1.keys():\n",
    "        count+=abs(freqs1[key]-freqs2[key])\n",
    "    return count\n",
    "charDeletionsAnagrams('aaa','aacb')"
   ]
  },
  {
   "cell_type": "code",
   "execution_count": 5,
   "metadata": {},
   "outputs": [
    {
     "data": {
      "text/plain": [
       "62228"
      ]
     },
     "execution_count": 5,
     "metadata": {},
     "output_type": "execute_result"
    }
   ],
   "source": [
    "# print floor of average sum(1,10)\n",
    "\n",
    "def averageRange1(lb,ub):\n",
    "    sum=0\n",
    "    for i in range(lb,ub+1):\n",
    "        sum+=i\n",
    "    count=ub-lb+1\n",
    "    return sum//count\n",
    "\n",
    "averageRange1(1000,123456)"
   ]
  },
  {
   "cell_type": "code",
   "execution_count": null,
   "metadata": {},
   "outputs": [],
   "source": [
    "def averageRange2(lb,ub):\n",
    "    sum=0\n",
    "    count=0\n",
    "    for i in range(lb,ub+1):\n",
    "        sum+=i\n",
    "        count+=1\n",
    "    return sum//count\n",
    "\n",
    "averageRange2(1000,123456)"
   ]
  },
  {
   "cell_type": "code",
   "execution_count": 6,
   "metadata": {},
   "outputs": [
    {
     "data": {
      "text/plain": [
       "-1"
      ]
     },
     "execution_count": 6,
     "metadata": {},
     "output_type": "execute_result"
    }
   ],
   "source": [
    "# kth largest frequency\n",
    "#{a:4,g:9,i:6,p:213}\n",
    "#[4,6,6,9,213]\n",
    "#[213,9,6,6,4]\n",
    "#[a,c,g,i,p]\n",
    "#k=5\n",
    "#li=[]\n",
    "#for item in d.items():\n",
    "# if item[1]==6\n",
    "#li.append(itme[0])\n",
    "#li=[i,c]\n",
    "\n",
    "def kLargestFrequency(s,k):\n",
    "# construct the frequency dictionary for all unique characters\n",
    "    unique=[]\n",
    "    freq={}\n",
    "    for i in s:\n",
    "        if i not in freq.keys():\n",
    "            freq[i]=s.count(i)\n",
    "    #extract unique frequency in descending order\n",
    "    values=sorted(freq.values(),reverse=True) \n",
    "    uniqueValues=list(set(values))\n",
    "    uniqueValues=sorted(uniqueValues,reverse=True)\n",
    "    #identify kth largest frequency\n",
    "    if k<=len(uniqueValues):\n",
    "        kvalue=uniqueValues[k-1] \n",
    "    else:\n",
    "        return -1\n",
    "    # get all elements with kth largest frequency\n",
    "    li=[]\n",
    "    for item in freq.items():\n",
    "        if item[1]==kvalue:\n",
    "            li.append(item[0])\n",
    "        #minimum of kth largest frequency\n",
    "    return min(li)\n",
    "\n",
    "\n",
    "with open('../Desktop/input.txt') as f:\n",
    "    t=int(f.readline())\n",
    "    for i in range(t):\n",
    "        s=f.readline\n",
    "        k=int(f.readline)\n",
    "        print(kLargestFrequency(s,k))"
   ]
  },
  {
   "cell_type": "code",
   "execution_count": null,
   "metadata": {},
   "outputs": [],
   "source": [
    "# Largest Number in a list ->max(n)\n",
    "# Second Largest number in a list\n",
    "# Kth largest number in a list\n",
    "# Element with Highest frequency\n",
    "# Second Highest frequency\n",
    "# Kth Highest frequency\n"
   ]
  },
  {
   "cell_type": "code",
   "execution_count": 11,
   "metadata": {},
   "outputs": [
    {
     "ename": "SyntaxError",
     "evalue": "invalid syntax (<ipython-input-11-35c32b643566>, line 2)",
     "output_type": "error",
     "traceback": [
      "\u001b[1;36m  File \u001b[1;32m\"<ipython-input-11-35c32b643566>\"\u001b[1;36m, line \u001b[1;32m2\u001b[0m\n\u001b[1;33m    max{l}\u001b[0m\n\u001b[1;37m       ^\u001b[0m\n\u001b[1;31mSyntaxError\u001b[0m\u001b[1;31m:\u001b[0m invalid syntax\n"
     ]
    }
   ],
   "source": []
  },
  {
   "cell_type": "code",
   "execution_count": null,
   "metadata": {},
   "outputs": [],
   "source": []
  },
  {
   "cell_type": "code",
   "execution_count": null,
   "metadata": {},
   "outputs": [],
   "source": []
  }
 ],
 "metadata": {
  "kernelspec": {
   "display_name": "Python 3",
   "language": "python",
   "name": "python3"
  },
  "language_info": {
   "codemirror_mode": {
    "name": "ipython",
    "version": 3
   },
   "file_extension": ".py",
   "mimetype": "text/x-python",
   "name": "python",
   "nbconvert_exporter": "python",
   "pygments_lexer": "ipython3",
   "version": "3.7.3"
  }
 },
 "nbformat": 4,
 "nbformat_minor": 2
}
