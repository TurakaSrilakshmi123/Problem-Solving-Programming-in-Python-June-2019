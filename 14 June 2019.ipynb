{
 "cells": [
  {
   "cell_type": "markdown",
   "metadata": {},
   "source": [
    "### Problem Solving and Programming in Python - Day 4\n",
    "\n",
    "\n",
    "\n",
    "### Date - 14 June 2019\n",
    "\n",
    "### Day Objectives\n",
    "  - Python Data Structures\n",
    "        - Lists\n",
    "        - Tuples\n",
    "        - Dictionaries\n",
    "   - Basic Problem on Data Structures\n",
    "   - Advanced Problem Set\n",
    "   - Packages and Modules in Python"
   ]
  },
  {
   "cell_type": "markdown",
   "metadata": {},
   "source": [
    "## Python Data Structures"
   ]
  },
  {
   "cell_type": "markdown",
   "metadata": {},
   "source": [
    "### Lists\n"
   ]
  },
  {
   "cell_type": "code",
   "execution_count": 4,
   "metadata": {},
   "outputs": [
    {
     "data": {
      "text/plain": [
       "[123, 345, 654, 234, 456, 789]"
      ]
     },
     "execution_count": 4,
     "metadata": {},
     "output_type": "execute_result"
    }
   ],
   "source": [
    "li = [123,978,654]\n",
    "\n",
    "li # Acess the Entire list\n",
    "\n",
    "li[1] # Acess an element with index in a list\n",
    "\n",
    "li[1:] # Acess all elements from second element to last\n",
    "\n",
    "li = li[::-1] # reversing list elements and reassigning to the original list\n",
    "\n",
    "li\n",
    "\n",
    "li = li[::-1] #\n",
    "\n",
    "li[::2] #  Acessing Even index elements\n",
    "\n",
    "li[1::2] # Acessing odd index elements \n",
    "\n",
    "# Lists can be accessed, Manipulated in 2 different ways\n",
    "        # Direct Referencing - [index]\n",
    "        # Indirect Referncing - through functions\n",
    "        \n",
    "li.append(345) # Adding an element to end of the list\n",
    "\n",
    "li.insert(1,234) # Adding an element at a particular index\n",
    "\n",
    "li.sort() # Sort the elements in ascending order \n",
    "\n",
    "li.pop() # Remove the last element in a list\n",
    "\n",
    "li.pop(1) # Remove an element at a particular index\n",
    "\n",
    "li2 = [234,456,789]\n",
    "\n",
    "li.extend(li2) # merge list 2 into list 1\n",
    "\n",
    "sum(li) # Sum of all elements in a list\n",
    "max(li) # Maximum elements in a list\n",
    "len(li) # Number of elements in a list\n",
    "\n",
    "sum(li)/len(li) # Average of list elements\n",
    "\n",
    "sum(li[1::2])/len(li[1::2]) # Average of all alterante elements \n",
    "li\n"
   ]
  },
  {
   "cell_type": "code",
   "execution_count": 6,
   "metadata": {},
   "outputs": [
    {
     "data": {
      "text/plain": [
       "234"
      ]
     },
     "execution_count": 6,
     "metadata": {},
     "output_type": "execute_result"
    }
   ],
   "source": [
    "#Function to identify the second largest element in a unique list\n",
    "\n",
    "                    # sort the data and select the second largest element\n",
    "                    # sort the data in reverse order,and select the second element\n",
    "                    # Remove the max element and then get the max of the new list \n",
    "            \n",
    "def secondlargest(li):\n",
    "    li.sort()\n",
    "    return li[-2]\n",
    "# Function that returns the  nth largest\n",
    "def genericlargest(li,n):\n",
    "    li.sort()\n",
    "    return li[-n]\n",
    "\n",
    "secondlargest(li)   \n",
    "genericlargest(li,5)"
   ]
  },
  {
   "cell_type": "code",
   "execution_count": 62,
   "metadata": {},
   "outputs": [
    {
     "data": {
      "text/plain": [
       "-1"
      ]
     },
     "execution_count": 62,
     "metadata": {},
     "output_type": "execute_result"
    }
   ],
   "source": [
    "# Function to search for data in a list\n",
    "# Search for the key in the list and return the \n",
    "def Linearsearch(li,key):\n",
    "    for index in range (0,len(li)):\n",
    "        if li[index]==key:\n",
    "            return index\n",
    "    return -1\n",
    "Linearsearch(li,234)\n",
    "\n",
    "\n",
    "def Linearsearch2(li,key):\n",
    "    for element in li:\n",
    "        if element ==key:\n",
    "            return li.index(element)\n",
    "    return -1\n",
    "Linearsearch2(li,654)\n",
    "\n",
    "\n",
    "def Linearsearch3(li,key):\n",
    "    if key in li:\n",
    "        return li.index(key)\n",
    "    return -1\n",
    "  \n",
    "Linearsearch3(li,654)\n",
    "\n",
    "\n"
   ]
  },
  {
   "cell_type": "code",
   "execution_count": 34,
   "metadata": {},
   "outputs": [
    {
     "data": {
      "text/plain": [
       "1"
      ]
     },
     "execution_count": 34,
     "metadata": {},
     "output_type": "execute_result"
    }
   ],
   "source": [
    "# Function to count the occurances of a chatacter in a string\n",
    "# ex: \"Python Programming\" , m -> 2\n",
    "li =(\"Python Programming\")\n",
    "li.count(\"m\")\n",
    "\n",
    "def countOccurances(s,c):\n",
    "    count=0\n",
    "    for ch in s:\n",
    "        if ch==c:\n",
    "            count+=1\n",
    "    return count\n",
    "countOccurances(li,\"m\")\n",
    "\n",
    "def countOccurances2(s,c):\n",
    "    return s.count(c)\n",
    "countOccurances2(li,'Py')"
   ]
  },
  {
   "cell_type": "code",
   "execution_count": 63,
   "metadata": {},
   "outputs": [
    {
     "data": {
      "text/plain": [
       "2"
      ]
     },
     "execution_count": 63,
     "metadata": {},
     "output_type": "execute_result"
    }
   ],
   "source": [
    "# Function to find the number of occurances of \"abcabcddcba\" \"ab\" ->2\n",
    "\n",
    "def countcharoccurances2(s,c):\n",
    "    return s.count(c)\n",
    "countcharoccurances2(\"abcabcddcba\", \"ab\")\n"
   ]
  },
  {
   "cell_type": "code",
   "execution_count": 1,
   "metadata": {},
   "outputs": [
    {
     "data": {
      "text/plain": [
       "[1, 2, 3, 4, 5, 6]"
      ]
     },
     "execution_count": 1,
     "metadata": {},
     "output_type": "execute_result"
    }
   ],
   "source": [
    "s=\"1 2 3 4 5 6\"\n",
    "li=s.split()\n",
    "nlist=[]\n",
    "for i in li:\n",
    "    nlist.append(int(i))\n",
    "nlist"
   ]
  },
  {
   "cell_type": "code",
   "execution_count": 6,
   "metadata": {},
   "outputs": [
    {
     "name": "stdout",
     "output_type": "stream",
     "text": [
      "3\n",
      "14\n"
     ]
    }
   ],
   "source": [
    "n= int(input())\n",
    "def squaresum(n):\n",
    "    sum = 0\n",
    "    for i in range(1,n+1):\n",
    "        sum = sum + (i**2)\n",
    "    print(sum)\n",
    "    \n",
    "squaresum(n)"
   ]
  },
  {
   "cell_type": "code",
   "execution_count": 8,
   "metadata": {},
   "outputs": [
    {
     "name": "stdout",
     "output_type": "stream",
     "text": [
      "3\n",
      "-1 0 1\n"
     ]
    },
    {
     "data": {
      "text/plain": [
       "0"
      ]
     },
     "execution_count": 8,
     "metadata": {},
     "output_type": "execute_result"
    }
   ],
   "source": [
    "n = int(input())\n",
    "s = input()\n",
    "# \"1 2 3 4 5\"\n",
    "li =[]\n",
    "for i in s.split():\n",
    "    li.append(abs(int(i)))  # abs converts - values to + closest to 0\n",
    "\n",
    "def closest_zero(li):\n",
    "    if 0 in li:\n",
    "        return 0\n",
    "    else:\n",
    "        li.sort()\n",
    "        pc = []\n",
    "        nc = []\n",
    "        for i in li:\n",
    "            if i > 0:\n",
    "                pc.append(i)\n",
    "        for i in li:\n",
    "            if i < 0:\n",
    "                nc.append(i)\n",
    "        if len(nc)==0:\n",
    "            return min(pc)\n",
    "        elif len(pc)==0:\n",
    "            return max(nc)\n",
    "        else:\n",
    "            nz = max(nc)\n",
    "            pz = min(pc)\n",
    "            if abs(nc) > pc:\n",
    "                return pc\n",
    "            elif abs(nz) > pc or abs(nz) == pc:\n",
    "                return pz\n",
    "            else:\n",
    "                return nz\n",
    "closest_zero(li) \n"
   ]
  },
  {
   "cell_type": "markdown",
   "metadata": {},
   "source": [
    "#### ** Input Format**\n",
    "The first line contains a single integer N denoting the\n",
    "The next line contains N space separated integers\n",
    "\n",
    "#### ** Explanation**\n",
    "- li = [3, 2, -1,-2,-3] (Original List)\n",
    "- Sort the data\n",
    "- li = "
   ]
  },
  {
   "cell_type": "code",
   "execution_count": 10,
   "metadata": {},
   "outputs": [
    {
     "name": "stdout",
     "output_type": "stream",
     "text": [
      "10\n",
      "2 3 5 7 "
     ]
    }
   ],
   "source": [
    "def isprimenumber(n):\n",
    "    count=0\n",
    "    for i in range(1,n+1):\n",
    "        if n%i==0:\n",
    "            count+=1\n",
    "    if(count==2):\n",
    "        return i\n",
    "    return\n",
    "\n",
    "def primerange(N):\n",
    "    for i in range(1,N+1):\n",
    "        if isprimenumber(i):\n",
    "            print(i, end=\" \")\n",
    "        \n",
    "    \n",
    "N=int(input())\n",
    "primerange(N)\n"
   ]
  },
  {
   "cell_type": "code",
   "execution_count": 42,
   "metadata": {},
   "outputs": [
    {
     "name": "stdout",
     "output_type": "stream",
     "text": [
      "-1\n"
     ]
    }
   ],
   "source": [
    "li=[3,2,-1,-2,-3]\n",
    "li.sort()\n",
    "pl =[]\n",
    "for i in li:\n",
    "    pl.append(abs(i))\n",
    "pl.sort()\n",
    "if pl[0] in li:\n",
    "    print (pl[0])\n",
    "else:\n",
    "    print(-pl[0])\n",
    "    "
   ]
  },
  {
   "cell_type": "code",
   "execution_count": 43,
   "metadata": {},
   "outputs": [
    {
     "name": "stdout",
     "output_type": "stream",
     "text": [
      "-1\n"
     ]
    }
   ],
   "source": [
    "li=[li=[3,2,-1,-2,-3]\n",
    "li.sort()\n",
    "pl =[]\n",
    "for i in li:\n",
    "    pl.append(abs(i))\n",
    "pl.sort()\n",
    "if -pl[0] in li:\n",
    "    print (-pl[0])\n",
    "else:\n",
    "    print(pl[0])"
   ]
  },
  {
   "cell_type": "code",
   "execution_count": 46,
   "metadata": {},
   "outputs": [
    {
     "name": "stdout",
     "output_type": "stream",
     "text": [
      "-10\n"
     ]
    }
   ],
   "source": [
    "# Farthest from the Zero\n",
    "li=[-1,-2,1,-10,9]\n",
    "li.sort()\n",
    "pl =[]\n",
    "for i in li:\n",
    "    pl.append(abs(i))\n",
    "pl.sort()\n",
    "if pl[-1] in li:\n",
    "    print (pl[-1])\n",
    "else:\n",
    "    print(-pl[-1])"
   ]
  },
  {
   "cell_type": "markdown",
   "metadata": {},
   "source": [
    "### Problem -3 \n",
    "You are given three numbers , a,b and c.\n",
    "Write a program to find the largest number\n",
    "which is less than or equal to c and leaves remainder b when divided by a.\n",
    "\n",
    "\n",
    "3 2 9\n",
    "- 9%3==0\n",
    "- 8%3==2\n",
    "\n",
    "1 2 4\n",
    "- 4%1==0\n",
    "- 3%1==0\n",
    "- 2%1==0\n",
    "- 1%1==0\n",
    "- 0%1==0\n",
    "\n",
    "\n"
   ]
  },
  {
   "cell_type": "code",
   "execution_count": 61,
   "metadata": {},
   "outputs": [
    {
     "data": {
      "text/plain": [
       "98"
      ]
     },
     "execution_count": 61,
     "metadata": {},
     "output_type": "execute_result"
    }
   ],
   "source": [
    "def largestnumber(a,b,c):\n",
    "    for i in range (c, a-1,-1):\n",
    "        if i%a==b:\n",
    "            return i\n",
    "    return -1\n",
    "largestnumber(3,2,9)\n",
    "largestnumber(3,2,100)"
   ]
  },
  {
   "cell_type": "code",
   "execution_count": 70,
   "metadata": {},
   "outputs": [
    {
     "name": "stdout",
     "output_type": "stream",
     "text": [
      "hIhI\n"
     ]
    }
   ],
   "source": [
    "s=\"HiHi\"\n",
    "k=\"\"\n",
    "for i in s:\n",
    "    if i.isupper():\n",
    "        k=k+i.lower()\n",
    "    else:\n",
    "        k=k+i.upper()\n",
    "print(k) \n",
    "    "
   ]
  },
  {
   "cell_type": "code",
   "execution_count": 25,
   "metadata": {},
   "outputs": [
    {
     "name": "stdout",
     "output_type": "stream",
     "text": [
      "sri\n",
      "ser\n",
      "['i', 'r', 's']\n",
      "['e', 'r', 's']\n",
      "No\n"
     ]
    }
   ],
   "source": [
    "s1=input()\n",
    "s2=input()\n",
    "l1=[]\n",
    "l2=[]\n",
    "def test(t):\n",
    "    for i in (1,t+1):\n",
    "        for i in s1:\n",
    "            l1.append(i)\n",
    "            l1.sort()\n",
    "        \n",
    "        for j in s2:\n",
    "            l2.append(j)\n",
    "            l2.sort()\n",
    "    print(l2)\n",
    "    if l1==l2:\n",
    "        print(\"Yes\")\n",
    "    else:\n",
    "        print(\"No\")\n",
    "test(3)"
   ]
  },
  {
   "cell_type": "code",
   "execution_count": 21,
   "metadata": {},
   "outputs": [
    {
     "ename": "AttributeError",
     "evalue": "'str' object has no attribute 'sort'",
     "output_type": "error",
     "traceback": [
      "\u001b[1;31m---------------------------------------------------------------------------\u001b[0m",
      "\u001b[1;31mAttributeError\u001b[0m                            Traceback (most recent call last)",
      "\u001b[1;32m<ipython-input-21-fb4d7fb29014>\u001b[0m in \u001b[0;36m<module>\u001b[1;34m\u001b[0m\n\u001b[0;32m      1\u001b[0m \u001b[0ms1\u001b[0m\u001b[1;33m=\u001b[0m\u001b[1;34m\"sree\"\u001b[0m\u001b[1;33m\u001b[0m\u001b[1;33m\u001b[0m\u001b[0m\n\u001b[1;32m----> 2\u001b[1;33m \u001b[0ms2\u001b[0m\u001b[1;33m=\u001b[0m\u001b[0ms1\u001b[0m\u001b[1;33m.\u001b[0m\u001b[0msort\u001b[0m\u001b[1;33m(\u001b[0m\u001b[1;33m)\u001b[0m\u001b[1;33m\u001b[0m\u001b[1;33m\u001b[0m\u001b[0m\n\u001b[0m\u001b[0;32m      3\u001b[0m \u001b[0ms2\u001b[0m\u001b[1;33m\u001b[0m\u001b[1;33m\u001b[0m\u001b[0m\n\u001b[0;32m      4\u001b[0m \u001b[1;33m\u001b[0m\u001b[0m\n",
      "\u001b[1;31mAttributeError\u001b[0m: 'str' object has no attribute 'sort'"
     ]
    }
   ],
   "source": []
  },
  {
   "cell_type": "code",
   "execution_count": 30,
   "metadata": {},
   "outputs": [
    {
     "name": "stdout",
     "output_type": "stream",
     "text": [
      "46\n"
     ]
    }
   ],
   "source": [
    "def string(s):\n",
    "    sum=0\n",
    "    for i in s:\n",
    "        sum=sum+(ord(i)-96)\n",
    "    print(sum)\n",
    "string(\"sri\")"
   ]
  },
  {
   "cell_type": "code",
   "execution_count": null,
   "metadata": {},
   "outputs": [],
   "source": [
    "def time(sh,sm,eh,em):\n",
    "    th=abs(60-sh)-1\n",
    "    tm=abs(60-sm)+em\n",
    "    if tm>=60:\n",
    "        th+=1\n",
    "        tm=(60-sm)\n",
    "    "
   ]
  }
 ],
 "metadata": {
  "kernelspec": {
   "display_name": "Python 3",
   "language": "python",
   "name": "python3"
  },
  "language_info": {
   "codemirror_mode": {
    "name": "ipython",
    "version": 3
   },
   "file_extension": ".py",
   "mimetype": "text/x-python",
   "name": "python",
   "nbconvert_exporter": "python",
   "pygments_lexer": "ipython3",
   "version": "3.7.3"
  }
 },
 "nbformat": 4,
 "nbformat_minor": 2
}
