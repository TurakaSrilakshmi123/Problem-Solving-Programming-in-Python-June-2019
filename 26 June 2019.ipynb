{
 "cells": [
  {
   "cell_type": "code",
   "execution_count": null,
   "metadata": {},
   "outputs": [],
   "source": [
    "# Largest Number in a list ->max(n)\n",
    "# Second Largest number in a list\n",
    "# Kth largest number in a list\n",
    "# Element with Highest frequency\n",
    "# Second Highest frequency\n",
    "# Kth Highest frequency"
   ]
  },
  {
   "cell_type": "code",
   "execution_count": 90,
   "metadata": {},
   "outputs": [
    {
     "name": "stdout",
     "output_type": "stream",
     "text": [
      "[3, 4, 5, 6]\n"
     ]
    },
    {
     "data": {
      "text/plain": [
       "5"
      ]
     },
     "execution_count": 90,
     "metadata": {},
     "output_type": "execute_result"
    }
   ],
   "source": [
    "#Function to find the second largest number in a list\n",
    "\n",
    "def secondLargest(li):\n",
    "    # Convert the list into a unique list\n",
    "    # O(n) To extract unique data from list \n",
    "    unique=[]\n",
    "    for n in li:\n",
    "        if n not in unique:\n",
    "            unique.append(n)\n",
    "    unique=sorted(unique,reverse=True)\n",
    "    if len(unique)>1:\n",
    "        return unique[1]\n",
    "    return -1\n",
    "secondLargest([1])\n",
    "\n",
    "def fifthLeast(li):\n",
    "    unique=[]\n",
    "    for n in li:\n",
    "        if n not in unique:\n",
    "            unique.append(n)\n",
    "    unique=sorted(unique)\n",
    "    return unique[4]\n",
    "fifthLeast([1,2,3,4,5,3,4,6,5,8,7,5,9])\n",
    "\n",
    "def kLargest(li,k):\n",
    "    unique=[]\n",
    "    for n in li:\n",
    "        if n not in unique:\n",
    "            unique.append(n)\n",
    "    unique=sorted(unique,reverse=True)\n",
    "    if len(unique)>=k:\n",
    "        return unique[k-1]\n",
    "    return -1\n",
    "#k=int(input())\n",
    "kLargest(([1,2,3,4,5,3,4,6,5,8,7,5,9]),2)\n",
    "\n",
    "\n",
    "def kSmallest(li,k):\n",
    "    # Extract unique elements in the list\n",
    "    unique=[]\n",
    "    for n in li:\n",
    "        if n not in unique:\n",
    "            unique.append(n)\n",
    "            \n",
    "    # Sort the Unique list in Ascending order\n",
    "    unique=sorted(unique)\n",
    "    print (unique)\n",
    "    \n",
    "    # Check if length of unique list is greater than or equal to k\n",
    "    if len(unique)>=k:\n",
    "        return unique[k-1]\n",
    "    return -1\n",
    "#k=int(input())\n",
    "kSmallest(([3,4,5,6]),3)  "
   ]
  },
  {
   "cell_type": "code",
   "execution_count": null,
   "metadata": {},
   "outputs": [],
   "source": []
  },
  {
   "cell_type": "code",
   "execution_count": 42,
   "metadata": {},
   "outputs": [
    {
     "name": "stdout",
     "output_type": "stream",
     "text": [
      "{1: 2, 2: 2, 3: 2, 9: 1, 8: 1, 7: 1, 4: 1}\n",
      "2\n"
     ]
    },
    {
     "data": {
      "text/plain": [
       "1"
      ]
     },
     "execution_count": 42,
     "metadata": {},
     "output_type": "execute_result"
    }
   ],
   "source": [
    "# Function to identify the element with highest frequncy in a list\n",
    "# If many elements have the highest frequency, return the smallest one\n",
    "# HighestFrequency([1,2,3,9,8,7,3,4,2,1]) -> 3\n",
    "def highestFrequencyElement(li):\n",
    "    # Extracting unique elements with free \n",
    "    unique={}\n",
    "    for n in li:\n",
    "        if n not in unique:  # if n in unique\n",
    "            unique[n] = 1    # unique[n] +=1\n",
    "        else:\n",
    "            unique[n] += 1   # unque[n] = 1\n",
    "    print(unique)\n",
    "    # Getting  all frequencies into a list\n",
    "    \n",
    "    freq = unique.values()\n",
    "    maxfreq = max(freq)\n",
    "    print(maxfreq)\n",
    "    maxfreqE=[]\n",
    "    # Identifying the smallest number with maximum frequency\n",
    "    for item in unique.items():\n",
    "        # item -> (key,value)\n",
    "        # item[1]=value;item[0]=key\n",
    "        if item[1]==maxfreq:\n",
    "            maxfreqE.append(item[0])\n",
    "    # select the minimum from the keys with maximum frequency\n",
    "    return min(maxfreqE)\n",
    "highestFrequencyElement(([1,2,3,9,8,7,3,4,2,1]))"
   ]
  },
  {
   "cell_type": "code",
   "execution_count": 62,
   "metadata": {},
   "outputs": [
    {
     "name": "stdout",
     "output_type": "stream",
     "text": [
      "{1: 4, 2: 3, 3: 2, 4: 2, 9: 1, 12: 3}\n",
      "3\n"
     ]
    },
    {
     "data": {
      "text/plain": [
       "[2, 12]"
      ]
     },
     "execution_count": 62,
     "metadata": {},
     "output_type": "execute_result"
    }
   ],
   "source": [
    "# Function to identify second highest frequency element\n",
    "# If there are many such elements, return the smallest\n",
    "\n",
    "def secondhighestfrequency(li):\n",
    "    unique={}\n",
    "    for n in li:\n",
    "        if n not in unique:  # if n in unique\n",
    "            unique[n] = 1    # unique[n] +=1\n",
    "        else:\n",
    "            unique[n] += 1   # unque[n] = 1\n",
    "    print(unique)\n",
    "    \n",
    "    maxfreq=max(unique.values())\n",
    "    secondmaxfreq=maxfreq-1\n",
    "    print(secondmaxfreq)\n",
    "    \n",
    "    freqE=[]\n",
    "    for item in unique.items():\n",
    "        if item[1]==secondmaxfreq:\n",
    "            freqE.append(item[0])\n",
    "    return (freqE)\n",
    "secondhighestfrequency([1,2,3,3,2,1,4,4,9,1,1,2,12,12,12])"
   ]
  },
  {
   "cell_type": "code",
   "execution_count": 96,
   "metadata": {},
   "outputs": [
    {
     "name": "stdout",
     "output_type": "stream",
     "text": [
      "{9: 2, 8: 1, 7: 5, 6: 4, 5: 1, 2: 1, 3: 1, 4: 1}\n",
      "dict_values([2, 1, 5, 4, 1, 1, 1, 1])\n",
      "1\n",
      "[8, 5, 2, 3, 4]\n"
     ]
    },
    {
     "data": {
      "text/plain": [
       "8"
      ]
     },
     "execution_count": 96,
     "metadata": {},
     "output_type": "execute_result"
    }
   ],
   "source": [
    "# Function to identify Kth highest frequency\n",
    "# If there are many such elements,return \n",
    "# [9,8,7,6,5,2,3,4,9,6,7,7,7,6,7,6], k=4 \n",
    "def kthHighestfrequency(li,k):\n",
    "    unique={}\n",
    "    for n in li:\n",
    "        if n not in unique:  # if n in unique\n",
    "            unique[n] = 1    # unique[n] +=1\n",
    "        else:\n",
    "            unique[n] += 1   # unque[n] = 1\n",
    "    print(unique)\n",
    "    freq=unique.values()\n",
    "    print(freq) \n",
    "    a=kLargest(freq,k)\n",
    "    print(a)\n",
    "    maxfreqE=[]\n",
    "    for item in unique.items():\n",
    "        if item[1]==a:\n",
    "            maxfreqE.append(item[0])\n",
    "    print(maxfreqE)\n",
    "    return max(maxfreqE)\n",
    "   \n",
    "kthHighestfrequency([9,8,7,6,5,2,3,4,9,6,7,7,7,6,7,6],4)"
   ]
  },
  {
   "cell_type": "code",
   "execution_count": 92,
   "metadata": {},
   "outputs": [
    {
     "name": "stdout",
     "output_type": "stream",
     "text": [
      "{1: 4, 2: 3, 3: 2, 4: 2, 9: 1, 12: 3}\n",
      "dict_values([4, 3, 2, 2, 1, 3])\n",
      "[1, 2, 3, 4]\n",
      "3\n",
      "[2, 12]\n"
     ]
    },
    {
     "data": {
      "text/plain": [
       "2"
      ]
     },
     "execution_count": 92,
     "metadata": {},
     "output_type": "execute_result"
    }
   ],
   "source": [
    "def kthLowestfrequency(li,k):\n",
    "    unique={}\n",
    "    for n in li:\n",
    "        if n not in unique:  # if n in unique\n",
    "            unique[n] = 1    # unique[n] +=1\n",
    "        else:\n",
    "            unique[n] += 1   # unque[n] = 1\n",
    "    print(unique)\n",
    "    freq=unique.values()\n",
    "    print(freq) \n",
    "    a=kSmallest(freq,k)\n",
    "    print(a)\n",
    "    maxfreqE=[]\n",
    "    for item in unique.items():\n",
    "        if item[1]==a:\n",
    "            maxfreqE.append(item[0])\n",
    "    print(maxfreqE)\n",
    "    return min(maxfreqE)\n",
    "   \n",
    "kthLowestfrequency([1,2,3,3,2,1,4,4,9,1,1,2,12,12,12],3)"
   ]
  },
  {
   "cell_type": "code",
   "execution_count": 98,
   "metadata": {},
   "outputs": [
    {
     "name": "stdout",
     "output_type": "stream",
     "text": [
      "1\n"
     ]
    }
   ],
   "source": [
    "def kthHighestfrequency(li,k):\n",
    "    unique={}\n",
    "    for n in li:\n",
    "        if n not in unique:  # if n in unique\n",
    "            unique[n] = 1    # unique[n] +=1\n",
    "        else:\n",
    "            unique[n] += 1   # unque[n] = 1\n",
    "    uniqfreq=[]\n",
    "    for value in unique.values():\n",
    "        if value not in uniqfreq:\n",
    "            uniqfreq.append(value)\n",
    "    uniqfreq=sorted(uniqfreq,reverse=True)\n",
    "    kfreq=uniqfreq[k-1]\n",
    "    print(kfreq)\n",
    "    kfreqchar=[]\n",
    "    for item in uniq.items():\n",
    "        if \n",
    "   \n",
    "kthHighestfrequency([9,8,7,6,5,2,3,4,9,6,7,7,7,6,7,6],4)"
   ]
  },
  {
   "cell_type": "code",
   "execution_count": null,
   "metadata": {},
   "outputs": [],
   "source": []
  }
 ],
 "metadata": {
  "kernelspec": {
   "display_name": "Python 3",
   "language": "python",
   "name": "python3"
  },
  "language_info": {
   "codemirror_mode": {
    "name": "ipython",
    "version": 3
   },
   "file_extension": ".py",
   "mimetype": "text/x-python",
   "name": "python",
   "nbconvert_exporter": "python",
   "pygments_lexer": "ipython3",
   "version": "3.7.3"
  }
 },
 "nbformat": 4,
 "nbformat_minor": 2
}
