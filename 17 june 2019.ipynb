{
 "cells": [
  {
   "cell_type": "markdown",
   "metadata": {},
   "source": [
    "### Exam Problems"
   ]
  },
  {
   "cell_type": "code",
   "execution_count": 1,
   "metadata": {},
   "outputs": [
    {
     "name": "stdout",
     "output_type": "stream",
     "text": [
      "5\n",
      "6\n"
     ]
    }
   ],
   "source": [
    "# Counting no of digits and lettrs in a given string\n",
    "def characters(s):\n",
    "    count=0\n",
    "    counter=0\n",
    "    s1=list(s)\n",
    "    for i in s1:\n",
    "        if i.isdigit():\n",
    "            count+=1\n",
    "        elif i.isalpha():\n",
    "            counter+=1\n",
    "        \n",
    "    print(count)\n",
    "    print(counter)\n",
    "characters(\"az@@2222asdd1\")"
   ]
  },
  {
   "cell_type": "code",
   "execution_count": 1,
   "metadata": {},
   "outputs": [
    {
     "name": "stdout",
     "output_type": "stream",
     "text": [
      "2\n",
      "1\n",
      "6\n",
      "yes\n"
     ]
    }
   ],
   "source": [
    "#Special Number\n",
    "def isprime(n):\n",
    "    count=0\n",
    "    for i in range(1,n+1):\n",
    "        if(n%i==0):\n",
    "            count+=1\n",
    "    if count==2:\n",
    "        return True\n",
    "    return False\n",
    "def factors(n):\n",
    "    l=[]\n",
    "    for i in range(1,n+1):\n",
    "        if(n%i==0):\n",
    "            l.append(i)\n",
    "    return l\n",
    "def SpecialNumber(n):\n",
    "    sum=0\n",
    "    j = factors(n)\n",
    "    for k in j:\n",
    "        if isprime(k):\n",
    "            sum+=1\n",
    "    if(sum==p):\n",
    "        print(\"yes\")\n",
    "    else:\n",
    "        print(\"No\")\n",
    "\n",
    "p=int(input())\n",
    "t=int(input())\n",
    "for i in range(1,t+1):\n",
    "    n=int(input())\n",
    "    SpecialNumber(n)\n",
    "    "
   ]
  },
  {
   "cell_type": "code",
   "execution_count": 2,
   "metadata": {},
   "outputs": [
    {
     "name": "stdout",
     "output_type": "stream",
     "text": [
      "yes\n"
     ]
    }
   ],
   "source": [
    "#Perfect Number\n",
    "def number(n):\n",
    "    sum=0\n",
    "    for i in range(1,n):\n",
    "        if(n%i==0):\n",
    "            sum+=i\n",
    "    if(sum==n):\n",
    "        print(\"yes\")\n",
    "    else:\n",
    "        print(\"No\")\n",
    "number(6)\n"
   ]
  },
  {
   "cell_type": "code",
   "execution_count": 3,
   "metadata": {},
   "outputs": [
    {
     "name": "stdout",
     "output_type": "stream",
     "text": [
      "6\n"
     ]
    }
   ],
   "source": [
    "# Highest remainder\n",
    "\n",
    "def highestRemainder(n):\n",
    "    hr=0\n",
    "    v=n\n",
    "    for i in range(n-1,n//2,-1):\n",
    "        r=n%i\n",
    "        if r>hr:\n",
    "            hr=r\n",
    "            v=i\n",
    "    print(v)\n",
    "    return\n",
    "    \n",
    "highestRemainder(10)"
   ]
  },
  {
   "cell_type": "code",
   "execution_count": 4,
   "metadata": {},
   "outputs": [
    {
     "name": "stdout",
     "output_type": "stream",
     "text": [
      "2\n",
      "1\n",
      "6\n",
      "YES\n"
     ]
    }
   ],
   "source": [
    "#Special Number\n",
    "\n",
    "# Function to determine if a number is special\n",
    "def isSpecialNumber(n, p):\n",
    "    if(numberOfPrimeFactors(n) >= p):\n",
    "        return True\n",
    "    return False\n",
    "    \n",
    "\n",
    "# Function to check if number is prime\n",
    "def isPrime(n):\n",
    "    flag = 1\n",
    "    if n == 2:\n",
    "        return True\n",
    "    for i in range(2,n//2+1):\n",
    "        if n % i == 0:\n",
    "            flag = 0\n",
    "            return False \n",
    "    if flag == 1:\n",
    "        return True\n",
    "    \n",
    "# Function to determine number of prime factors for a given number\n",
    "def numberOfPrimeFactors(n):\n",
    "    if isPrime(n):\n",
    "        return 1\n",
    "    count = 0\n",
    "    for i in range(2,n//2+1):\n",
    "        if(isPrime(i) and n % i == 0):\n",
    "            count = count + 1\n",
    "    return count\n",
    "\n",
    "def solution2():\n",
    "    p = int(input())\n",
    "    t = int(input())\n",
    "    for i in range(0, t):\n",
    "        n = int(input())\n",
    "        if isSpecialNumber(n,p):\n",
    "            print(\"YES\")\n",
    "        else:\n",
    "            print(\"NO\")\n",
    "        \n",
    "solution2()\n"
   ]
  },
  {
   "cell_type": "code",
   "execution_count": null,
   "metadata": {},
   "outputs": [],
   "source": []
  }
 ],
 "metadata": {
  "kernelspec": {
   "display_name": "Python 3",
   "language": "python",
   "name": "python3"
  },
  "language_info": {
   "codemirror_mode": {
    "name": "ipython",
    "version": 3
   },
   "file_extension": ".py",
   "mimetype": "text/x-python",
   "name": "python",
   "nbconvert_exporter": "python",
   "pygments_lexer": "ipython3",
   "version": "3.7.3"
  }
 },
 "nbformat": 4,
 "nbformat_minor": 2
}
