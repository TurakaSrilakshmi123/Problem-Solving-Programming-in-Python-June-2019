{
 "cells": [
  {
   "cell_type": "markdown",
   "metadata": {},
   "source": [
    "### Date:20 June 2019\n",
    "### Day Objectives\n",
    "- Regular Expressions\n",
    "   -  Constructing Regular Expressions for various use cases\n",
    "   - Regular Expressions Module and related in Python\n",
    "   - Improving Contacts application with name and phone number validation\n",
    "- File Handling\n",
    "   - Text Files\n",
    "   - Upgrading the Contacts Application to store contact information in a text "
   ]
  },
  {
   "cell_type": "code",
   "execution_count": null,
   "metadata": {},
   "outputs": [],
   "source": []
  },
  {
   "cell_type": "markdown",
   "metadata": {},
   "source": [
    "#### Regular Expressions\n",
    "\n",
    "- Pattern Matching\n",
    "- Symbolic Notation of a pattern\n",
    "    - Pattern : Format which repeats\n",
    "    - Pattern(RE) represents The set of all values that matches  that pattern\n",
    "- [0-9] -> Any digit \n",
    "- [a-z] -> Any lower case alphabet\n",
    "- [2468]  -> All single digit multiples of 2\n",
    "-  [8642]\n",
    "-  [6824]\n",
    "- ^[0-9]{1}$ -> Only single digit numbers\n",
    "\n",
    "\n",
    "- ^[0-9]{3}$ -> Only 3 digit Numbers\n",
    "\n",
    "\n",
    "- [1-9][0-9]*0$ -> All multiples of 10\n",
    "\n",
    "\n",
    "- ^[1-9][0-9]*[0,5]$ -> All multiples of 5 (except 5)\n",
    " \n",
    " \n",
    "- ^([1-9][0-9]*[50])$|^([5])$  -> (including 5)\n",
    "  \n",
    "  \n",
    "-  ^[1-9][0-9]{9}$  -> All 10 digit numbers\n",
    "\n",
    "\n",
    "- (word) or [w][o][r][d] -> Searching for a 'word'\n",
    "   \n",
    "   \n",
    "-  ^[6-9][0-9]{9}$ -> Validating Phone Number(India)\n",
    "\n",
    "- ^[6-9][0-9]{9}$|^[0][6-9][0-9]{9}$ -> ex:09434423423\n",
    "\n",
    "- ^[6-9][0-9]{9}$|^[0][6-9][0-9]{9}$|^[+][6-9][0-9]{9}$  -> ex:+91325677786\n",
    "           \n",
    "           \n",
    "  ^[0-9a-z][0-9a-z_.]{4,13}[0-9a-z][@][a-z0-9]{3,15}[.][a-z]{2,4}$|^  -> Email Validation (username@domain.extension)\n",
    "         \n",
    " - username\n",
    "          - Length of username : [6,15]\n",
    "          - No special characters other than _.\n",
    "          - Should not begin and end with _.\n",
    "          - Character set: all digits and lowercase alphabet\n",
    " - domain\n",
    "          - Length of domain : [3,18]\n",
    "          - Characterset:all digits and lowercase alphabets\n",
    "          -  No special characters \n",
    " - extension\n",
    "          - Length of Extension : [2,4]\n",
    "          - No special characters \n",
    "          - Characterset: lowercase alphabet\n",
    "- ^[a]..[z]$ -> Any String of length 5 that starts with 'a' and ends with z\n",
    "\n",
    "- ^[a].*[z]$ -> Any String of length 5 that starts with 'a' and ends with z\n"
   ]
  },
  {
   "cell_type": "code",
   "execution_count": 67,
   "metadata": {},
   "outputs": [
    {
     "data": {
      "text/plain": [
       "True"
      ]
     },
     "execution_count": 67,
     "metadata": {},
     "output_type": "execute_result"
    }
   ],
   "source": [
    "# Function to validate a phone Number\n",
    "\n",
    "import re\n",
    "\n",
    "def phoneNumberValidator(number):\n",
    "    pattern = '^[6-9][0-9]{9} |[0][6−9][0−9]9 |^[+][6-9][0-9]{9}$'\n",
    "    if re.match(pattern,str(number)):\n",
    "        return True\n",
    "    return False\n",
    "phoneNumberValidator(9876543212)\n",
    "\n",
    "def emailValidator(email):\n",
    "    pattern='^[0-9a-z][0-9a-z_.]{4,13}[0-9a-z][@][a-z0-9]{3,15}[.][a-z]{2,4}$|^'\n",
    "    if re.match(pattern,email):\n",
    "        return True\n",
    "    return False\n",
    "emailValidator(\"python@gmail.com\")\n"
   ]
  },
  {
   "cell_type": "code",
   "execution_count": 32,
   "metadata": {},
   "outputs": [
    {
     "name": "stdout",
     "output_type": "stream",
     "text": [
      "1 added successfully\n"
     ]
    },
    {
     "data": {
      "text/plain": [
       "{'name1': [9876554323, 'name1@domain.ext'],\n",
       " 'name2': [7013249349, 'python@gmail.com'],\n",
       " 'name4': [9494466202, 'name4_123@gmail.com']}"
      ]
     },
     "execution_count": 32,
     "metadata": {},
     "output_type": "execute_result"
    }
   ],
   "source": [
    "# New contacts is given as a dictionary\n",
    "# Merge new contacts with existing contacts\n",
    "\n",
    "def importContacts(newContacts):\n",
    "    contacts.update(newContacts)\n",
    "    print(len(newContacts.keys()),\"added successfully\")\n",
    "    return\n",
    "newContacts={\"name4\":[9494466202,\"name4_123@gmail.com\"]}\n",
    "importContacts(newContacts)\n",
    "contacts"
   ]
  },
  {
   "cell_type": "code",
   "execution_count": 23,
   "metadata": {},
   "outputs": [
    {
     "name": "stdout",
     "output_type": "stream",
     "text": [
      "name1\n",
      "Phone: 9876554323\n",
      "Email: name1@domain.ext\n"
     ]
    }
   ],
   "source": [
    "# Search contact\n",
    "\n",
    "def searchContact(name):\n",
    "    if name in contacts:\n",
    "        print(name)\n",
    "        print(\"Phone:\", contacts[name][0])\n",
    "        print(\"Email:\", contacts[name][1])\n",
    "    else:\n",
    "        print(\"%s doesnot exist\"%name)\n",
    "searchContact(\"name1\")\n",
    "\n"
   ]
  },
  {
   "cell_type": "code",
   "execution_count": 66,
   "metadata": {},
   "outputs": [
    {
     "name": "stdout",
     "output_type": "stream",
     "text": [
      "Invalid Phone Number\n"
     ]
    }
   ],
   "source": [
    "# Add contact\n",
    "\n",
    "contacts={\"name1\":[9876554323,'name1@domain.ext'],\"name2\":[7013249349,'python@gmail.com']}\n",
    "def addContact(name,phone,email):\n",
    "    if name in contacts:\n",
    "          print(name,\"already exists.\")\n",
    "    else:\n",
    "        if not phoneNumberValidator(phone):\n",
    "            print(\"Invalid Phone Number\")\n",
    "            return\n",
    "        if not emailValidator(email):\n",
    "            print(\"Invalid Email address\")\n",
    "            return\n",
    "        newcontact = []\n",
    "        newcontact.append(phone)\n",
    "        newcontact.append(email)\n",
    "        contacts[name]=newcontact\n",
    "        print(name,\"added successfully\")\n",
    "    return       \n",
    "                               \n",
    "\n",
    "addContact(\"name3\",9876554323,\"name3@gmail.com\")"
   ]
  },
  {
   "cell_type": "code",
   "execution_count": 33,
   "metadata": {},
   "outputs": [
    {
     "ename": "ValueError",
     "evalue": "too many values to unpack (expected 2)",
     "output_type": "error",
     "traceback": [
      "\u001b[1;31m---------------------------------------------------------------------------\u001b[0m",
      "\u001b[1;31mValueError\u001b[0m                                Traceback (most recent call last)",
      "\u001b[1;32m<ipython-input-33-2ad1548e15f6>\u001b[0m in \u001b[0;36m<module>\u001b[1;34m\u001b[0m\n\u001b[0;32m      5\u001b[0m         \u001b[0mprint\u001b[0m\u001b[1;33m(\u001b[0m\u001b[0mcontact\u001b[0m\u001b[1;33m,\u001b[0m\u001b[1;34m\"\\n\"\u001b[0m\u001b[1;33m,\u001b[0m\u001b[1;34m\"Phone:\"\u001b[0m\u001b[1;33m,\u001b[0m\u001b[0minfo\u001b[0m\u001b[1;33m[\u001b[0m\u001b[1;36m0\u001b[0m\u001b[1;33m]\u001b[0m\u001b[1;33m,\u001b[0m\u001b[1;34m\"\\n\"\u001b[0m\u001b[1;33m,\u001b[0m\u001b[1;34m\"Email:\"\u001b[0m\u001b[1;33m,\u001b[0m\u001b[0minfo\u001b[0m\u001b[1;33m[\u001b[0m\u001b[1;36m1\u001b[0m\u001b[1;33m]\u001b[0m\u001b[1;33m)\u001b[0m\u001b[1;33m\u001b[0m\u001b[1;33m\u001b[0m\u001b[0m\n\u001b[0;32m      6\u001b[0m     \u001b[1;32mreturn\u001b[0m\u001b[1;33m\u001b[0m\u001b[1;33m\u001b[0m\u001b[0m\n\u001b[1;32m----> 7\u001b[1;33m \u001b[0mlistAllContacts\u001b[0m\u001b[1;33m(\u001b[0m\u001b[1;33m)\u001b[0m\u001b[1;33m\u001b[0m\u001b[1;33m\u001b[0m\u001b[0m\n\u001b[0m",
      "\u001b[1;32m<ipython-input-33-2ad1548e15f6>\u001b[0m in \u001b[0;36mlistAllContacts\u001b[1;34m()\u001b[0m\n\u001b[0;32m      2\u001b[0m \u001b[1;33m\u001b[0m\u001b[0m\n\u001b[0;32m      3\u001b[0m \u001b[1;32mdef\u001b[0m \u001b[0mlistAllContacts\u001b[0m\u001b[1;33m(\u001b[0m\u001b[1;33m)\u001b[0m\u001b[1;33m:\u001b[0m\u001b[1;33m\u001b[0m\u001b[1;33m\u001b[0m\u001b[0m\n\u001b[1;32m----> 4\u001b[1;33m     \u001b[1;32mfor\u001b[0m \u001b[0mcontact\u001b[0m\u001b[1;33m,\u001b[0m \u001b[0minfo\u001b[0m \u001b[1;32min\u001b[0m \u001b[0mcontacts\u001b[0m\u001b[1;33m:\u001b[0m\u001b[1;33m\u001b[0m\u001b[1;33m\u001b[0m\u001b[0m\n\u001b[0m\u001b[0;32m      5\u001b[0m         \u001b[0mprint\u001b[0m\u001b[1;33m(\u001b[0m\u001b[0mcontact\u001b[0m\u001b[1;33m,\u001b[0m\u001b[1;34m\"\\n\"\u001b[0m\u001b[1;33m,\u001b[0m\u001b[1;34m\"Phone:\"\u001b[0m\u001b[1;33m,\u001b[0m\u001b[0minfo\u001b[0m\u001b[1;33m[\u001b[0m\u001b[1;36m0\u001b[0m\u001b[1;33m]\u001b[0m\u001b[1;33m,\u001b[0m\u001b[1;34m\"\\n\"\u001b[0m\u001b[1;33m,\u001b[0m\u001b[1;34m\"Email:\"\u001b[0m\u001b[1;33m,\u001b[0m\u001b[0minfo\u001b[0m\u001b[1;33m[\u001b[0m\u001b[1;36m1\u001b[0m\u001b[1;33m]\u001b[0m\u001b[1;33m)\u001b[0m\u001b[1;33m\u001b[0m\u001b[1;33m\u001b[0m\u001b[0m\n\u001b[0;32m      6\u001b[0m     \u001b[1;32mreturn\u001b[0m\u001b[1;33m\u001b[0m\u001b[1;33m\u001b[0m\u001b[0m\n",
      "\u001b[1;31mValueError\u001b[0m: too many values to unpack (expected 2)"
     ]
    }
   ],
   "source": [
    "# Function to list all contacts\n",
    "\n",
    "def listAllContacts():\n",
    "    for contact, info in contacts:\n",
    "        print(contact,\"\\n\",\"Phone:\",info[0],\"\\n\",\"Email:\",info[1])\n",
    "    return\n",
    "listAllContacts()"
   ]
  },
  {
   "cell_type": "code",
   "execution_count": null,
   "metadata": {},
   "outputs": [],
   "source": [
    "# Function to edit contact information\n",
    "\n",
    "#def editContact(name, phone, email):\n",
    "    \n",
    "    "
   ]
  },
  {
   "cell_type": "code",
   "execution_count": null,
   "metadata": {},
   "outputs": [],
   "source": []
  },
  {
   "cell_type": "code",
   "execution_count": null,
   "metadata": {},
   "outputs": [],
   "source": []
  },
  {
   "cell_type": "markdown",
   "metadata": {},
   "source": [
    "### File Handling in Python\n",
    "\n",
    "File - Document containing information residing on the permanent storage\n",
    "Types - Text, PDF , CSV etc\n",
    "\n",
    "File I/O - Channelling I/O data to files\n",
    "Default I/O channels - Keyboard / Screen\n",
    "\n",
    "Change I/O channel to files for Reading and writing \n",
    "\n",
    "Read a file - Input from the file \n",
    "Write a file - Output to a file\n",
    "\n",
    "Read/Write file - open(filename,mode)\n",
    "\n"
   ]
  },
  {
   "cell_type": "code",
   "execution_count": null,
   "metadata": {},
   "outputs": [],
   "source": []
  },
  {
   "cell_type": "code",
   "execution_count": 49,
   "metadata": {},
   "outputs": [
    {
     "name": "stdout",
     "output_type": "stream",
     "text": [
      "Line1\n",
      "Line2\n",
      "Line3Line1\n",
      "Line2\n",
      "Line3\n"
     ]
    }
   ],
   "source": [
    "# Function to read a file\n",
    "\n",
    "def readFile(filename):\n",
    "    f = open(filename,'r')\n",
    "    filedata=f.read()\n",
    "    f.close()\n",
    "    return filedata\n",
    "\n",
    "filename='Data Files/data.txt'\n",
    "filedata= readFile(filename)\n",
    "#for line in readFile(filename).split('\\n'):\n",
    "#for line in filedata.split('\\n'):\n",
    "   # print(line)\n",
    "    \n",
    "    \n",
    "def printFileDataLines(filename):\n",
    "    with open(filename,'r') as f:\n",
    "        for line in f:\n",
    "            print(line,end='')\n",
    "    return\n",
    "\n",
    "printFileDataLines(filename)\n",
    "print(readFile(filename))"
   ]
  },
  {
   "cell_type": "code",
   "execution_count": null,
   "metadata": {},
   "outputs": [],
   "source": []
  },
  {
   "cell_type": "code",
   "execution_count": 52,
   "metadata": {},
   "outputs": [],
   "source": [
    "# Function to write data into a file\n",
    "\n",
    "def writeIntoFile(filename,filedata):\n",
    "    with open (filename, 'w') as f:\n",
    "        f.write(filedata)\n",
    "    return\n",
    "filename='Data Files/data.txt'\n",
    "writeIntoFile(filename,\"new data\\n\")"
   ]
  },
  {
   "cell_type": "code",
   "execution_count": 61,
   "metadata": {},
   "outputs": [],
   "source": [
    "# Function to append data into a file\n",
    "\n",
    "def appendDatatoFile(filename,filedata):\n",
    "    with open (filename, 'a') as f:\n",
    "        for line in filedata:\n",
    "            f.write('\\n'+line)\n",
    "    return\n",
    "filedata = [\"line4\",\"line5\"]\n",
    "appendDatatoFile(filename,filedata)"
   ]
  },
  {
   "cell_type": "code",
   "execution_count": null,
   "metadata": {},
   "outputs": [],
   "source": []
  },
  {
   "cell_type": "code",
   "execution_count": null,
   "metadata": {},
   "outputs": [],
   "source": []
  },
  {
   "cell_type": "code",
   "execution_count": null,
   "metadata": {},
   "outputs": [],
   "source": []
  },
  {
   "cell_type": "code",
   "execution_count": null,
   "metadata": {},
   "outputs": [],
   "source": []
  },
  {
   "cell_type": "code",
   "execution_count": null,
   "metadata": {},
   "outputs": [],
   "source": []
  },
  {
   "cell_type": "code",
   "execution_count": null,
   "metadata": {},
   "outputs": [],
   "source": []
  },
  {
   "cell_type": "code",
   "execution_count": null,
   "metadata": {},
   "outputs": [],
   "source": []
  },
  {
   "cell_type": "code",
   "execution_count": null,
   "metadata": {},
   "outputs": [],
   "source": []
  },
  {
   "cell_type": "code",
   "execution_count": null,
   "metadata": {},
   "outputs": [],
   "source": []
  },
  {
   "cell_type": "code",
   "execution_count": null,
   "metadata": {},
   "outputs": [],
   "source": []
  }
 ],
 "metadata": {
  "kernelspec": {
   "display_name": "Python 3",
   "language": "python",
   "name": "python3"
  },
  "language_info": {
   "codemirror_mode": {
    "name": "ipython",
    "version": 3
   },
   "file_extension": ".py",
   "mimetype": "text/x-python",
   "name": "python",
   "nbconvert_exporter": "python",
   "pygments_lexer": "ipython3",
   "version": "3.7.3"
  }
 },
 "nbformat": 4,
 "nbformat_minor": 2
}
