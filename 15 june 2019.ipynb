{
 "cells": [
  {
   "cell_type": "code",
   "execution_count": 2,
   "metadata": {},
   "outputs": [
    {
     "name": "stdout",
     "output_type": "stream",
     "text": [
      "1 10 1\n",
      "10\n"
     ]
    }
   ],
   "source": [
    "#You have been given 3 integers - l, r and k. Find how many numbers between l and r (both inclusive) are divisible by k. You do not need to print these numbers, you just have to find their count.\n",
    "\n",
    "#Input Format\n",
    "#The first and only line of input contains 3 space separated integers l, r and k.\n",
    "\n",
    "#Output Format\n",
    "#Print the required answer on a single line.\n",
    "def divisible(l,r,k):\n",
    "    counter=0\n",
    "    for i in range(l,r+1):\n",
    "        if(i%k==0):\n",
    "            counter+=1\n",
    "    print (counter)\n",
    "    return\n",
    "    \n",
    "s = input()\n",
    " \n",
    "s= s.split()\n",
    " \n",
    "l= int (s[0])\n",
    " \n",
    "r = int(s[1])\n",
    " \n",
    "k = int (s[2])\n",
    " \n",
    "divisible(l,r,k)\n"
   ]
  },
  {
   "cell_type": "code",
   "execution_count": 3,
   "metadata": {},
   "outputs": [
    {
     "name": "stdout",
     "output_type": "stream",
     "text": [
      "5\n",
      "120\n"
     ]
    }
   ],
   "source": [
    "#You have been given a positive integer N. You need to find and print the Factorial of this number. The Factorial of a positive integer N refers to the product of all number in the range from 1 to N. \n",
    "\n",
    "#Input Format:\n",
    "#The first and only line of the input contains a single integer N denoting the number whose factorial you need to find.\n",
    "\n",
    "#Output Format\n",
    "#Output a single line denoting the factorial of the number N.\n",
    "\n",
    "def factorial(n):\n",
    "    fact=1\n",
    "    for i in range(1,n+1):\n",
    "        fact*=i\n",
    "    print(fact)\n",
    "    return\n",
    "s=input()\n",
    "s=s.split()\n",
    "n=int(s[0])\n",
    "factorial(n)"
   ]
  },
  {
   "cell_type": "code",
   "execution_count": 27,
   "metadata": {},
   "outputs": [
    {
     "name": "stdout",
     "output_type": "stream",
     "text": [
      "dfwegvrbSDFfsdg\n"
     ]
    },
    {
     "data": {
      "text/plain": [
       "'dfwegvrbSDFfsdg'"
      ]
     },
     "execution_count": 27,
     "metadata": {},
     "output_type": "execute_result"
    }
   ],
   "source": [
    "#You have been given a String S consisting of uppercase and lowercase English alphabets. You need to change the case of each alphabet in this String. That is, all the uppercase letters should be converted to lowercase and all the lowercase letters should be converted to uppercase. You need to then print the resultant String to output.\n",
    "\n",
    "#Input Format\n",
    "#The first and only line of input contains the String S\n",
    "\n",
    "#Output Format\n",
    "#Print the resultant String on a single line.\n",
    "\n",
    "def string(s):\n",
    "    k=\"\"\n",
    "    for i in s:\n",
    "        if i.isupper():\n",
    "            k=k+i.lower()\n",
    "        else:\n",
    "            k=k+i.upper()\n",
    "    #print(k)\n",
    "    \n",
    "s=input()\n",
    "string(s)\n",
    "s1=list(s)\n",
    "s1\n",
    "\"\".join(s1)\n",
    " "
   ]
  },
  {
   "cell_type": "code",
   "execution_count": 20,
   "metadata": {},
   "outputs": [
    {
     "data": {
      "text/plain": [
       "'aBC'"
      ]
     },
     "execution_count": 20,
     "metadata": {},
     "output_type": "execute_result"
    }
   ],
   "source": [
    "#Function to Toggle String characters\n",
    "\n",
    "def toggleString(s):\n",
    "    #Convert the string into a list of characters\n",
    "    s=list(s)\n",
    "    t=[]\n",
    "    for c in s:\n",
    "        if c.islower():\n",
    "            t.append(c.upper())\n",
    "        else:\n",
    "            t.append(c.lower())\n",
    "    return \"\".join(t)\n",
    "toggleString(\"Abc\")            "
   ]
  },
  {
   "cell_type": "code",
   "execution_count": 5,
   "metadata": {},
   "outputs": [
    {
     "name": "stdout",
     "output_type": "stream",
     "text": [
      "aba\n",
      "YES\n"
     ]
    }
   ],
   "source": [
    "#You have been given a String S. You need to find and print whether this string is a palindrome or not. If yes, print \"YES\" (without quotes), else print \"NO\" (without quotes).\n",
    "\n",
    "#Input Format\n",
    "#The first and only line of input contains the String S. The String shall consist of lowercase English alphabets only.\n",
    "\n",
    "#Output Format\n",
    "#Print the required answer on a single line.\n",
    "\n",
    "def palindrom(s):\n",
    "    if s[::-1]==s:\n",
    "        print (\"YES\")\n",
    "    else:\n",
    "        print (\"NO\")\n",
    "    \n",
    "s=input()\n",
    "palindrom(s)"
   ]
  },
  {
   "cell_type": "code",
   "execution_count": 6,
   "metadata": {},
   "outputs": [
    {
     "name": "stdout",
     "output_type": "stream",
     "text": [
      "abc\n",
      "6\n"
     ]
    }
   ],
   "source": [
    "#Consider All lowercase Alphabets of the English language. Here we consider each alphabet from a to z to have a certain weight. The weight of the alphabet a is considered to be 1, b to be 2, c to be 3 and so on until z has a weight of 26. In short, the weight of the alphabet a is 1, and the weight of all other alphabets is the weight of its previous alphabet + 1.\n",
    "\n",
    "#Now, you have been given a String S consisting of lowercase English characters. You need to find the summation of weight of each character in this String.\n",
    "\n",
    "#For example, Consider the String aba\n",
    "\n",
    "#Here, the first character a has a weight of 1, the second character b has 2 and the third character a again has a weight of 1. So the summation here is equal to : 1+2+1=4\n",
    "\n",
    "#Input Format:\n",
    "\n",
    "#The first and only line of input contains the String S.\n",
    "\n",
    "#Output Format:\n",
    "\n",
    "#Print the required answer on a single line\n",
    "\n",
    "def charsum(s):\n",
    "    sum=0\n",
    "    for i in s:\n",
    "        sum=sum+(ord(i)-96)\n",
    "    print(sum)\n",
    " \n",
    "s=input()\n",
    "charsum(s)"
   ]
  },
  {
   "cell_type": "code",
   "execution_count": 7,
   "metadata": {},
   "outputs": [
    {
     "name": "stdout",
     "output_type": "stream",
     "text": [
      "10\n",
      "2 3 5 7 "
     ]
    }
   ],
   "source": [
    "#You are given an integer N. You need to print the series of all prime numbers till N.\n",
    "\n",
    "#Input Format\n",
    "\n",
    "#The first and only line of the input contains a single integer N denoting the number till where you need to find the series of prime number.\n",
    "\n",
    "#Output Format\n",
    "\n",
    "#Print the desired output in single line separated by spaces.\n",
    "\n",
    "def isprimenumber(n):\n",
    "    count=0\n",
    "    for i in range(1,n+1):\n",
    "        if n%i==0:\n",
    "            count+=1\n",
    "    if(count==2):\n",
    "        return i\n",
    "    return\n",
    " \n",
    "def primerange(N):\n",
    "    for i in range(1,N+1):\n",
    "        if isprimenumber(i):\n",
    "            print(i, end=\" \")\n",
    "        \n",
    "    \n",
    "N=int(input())\n",
    "primerange(N)"
   ]
  },
  {
   "cell_type": "code",
   "execution_count": 12,
   "metadata": {},
   "outputs": [
    {
     "name": "stdout",
     "output_type": "stream",
     "text": [
      "3\n",
      "sumit mitsu \n",
      "YES\n",
      "ambuj jumba\n",
      "YES\n",
      "abhi hibb\n",
      "NO\n"
     ]
    }
   ],
   "source": [
    "#Given two strings of equal length, you have to tell whether they both strings are identical.\n",
    "\n",
    "#Two strings S1 and S2 are said to be identical, if any of the permutation of string S1 is equal to the string S2. See Sample explanation for more details.\n",
    "\n",
    "#Input :\n",
    "\n",
    "#First line, contains an intger 'T' denoting no. of test cases.\n",
    "#Each test consists of a single line, containing two space separated strings S1 and S2 of equal length.\n",
    "#Output:\n",
    "\n",
    "#For each test case, if any of the permutation of string S1 is equal to the string S2 print YES else print NO.\n",
    "\n",
    "def twostrings(s1,s2):\n",
    "    l1=[]\n",
    "    l2=[]\n",
    "    for i in s1:\n",
    "        l1.append(i)\n",
    "    for j in s2:\n",
    "        l2.append(j)\n",
    "    l1.sort()\n",
    "    l2.sort()\n",
    "    if(l1==l2):\n",
    "        print(\"YES\")\n",
    "    else:\n",
    "        print(\"NO\")\n",
    "        \n",
    "t=int(input())\n",
    "for i in range(t):\n",
    "    s=input()\n",
    "    l=s.split()\n",
    "    s1=l[0]\n",
    "    s2=l[1]\n",
    "    twostrings(s1,s2)"
   ]
  },
  {
   "cell_type": "code",
   "execution_count": 39,
   "metadata": {},
   "outputs": [
    {
     "name": "stdout",
     "output_type": "stream",
     "text": [
      "0 30\n"
     ]
    }
   ],
   "source": [
    "#Rahul is a very busy persion he dont wan't to waste his time . He keeps account of duration of each and every work. Now he don't even get time to calculate duration of works, So your job is to count the durations for each work and give it to rahul.\n",
    "\n",
    "#Input:\n",
    "\n",
    "#First line will be given by N number of works\n",
    "#Next N line will be given SH,SM,EH and EM  each separated by space(SH=starting hr, SM=starting min, EH=ending hr, EM=ending min)\n",
    "#Output:\n",
    "\n",
    "#N lines with duration HH MM(hours and minutes separated by space)\n",
    "\n",
    "\n",
    "#Input: start time ,end time (HH MM)\n",
    "       # HH - {00,23} - {00,01,02,03......... 23}\n",
    "       # MM - {00,01,02,03,....59}\n",
    "       # HH MM - {00 00 ,23 59}\n",
    "        \n",
    "#output : time difference in HH MM\n",
    "\n",
    "#Calculate the time difference as total number of HH MM\n",
    "#Convert the total minutes into HH MM\n",
    " \n",
    "s=\"1 44 2 14\"\n",
    "def minuteDifference(s):\n",
    "    s=s.split()\n",
    "    sh = int(s[0])\n",
    "    sm = int(s[1])\n",
    "    eh = int(s[2])\n",
    "    em = int(s[3])\n",
    "    startminutes=(sh*60)+sm\n",
    "    endmintues=(eh*60)+em\n",
    "    return endmintues-startminutes\n",
    "\n",
    "def outputTimeFormat(minutes):\n",
    "    #Convert mintutes to HH MM\n",
    "    hh = minutes//60\n",
    "    mm=minutes%60\n",
    "    print(hh,mm)\n",
    "    return\n",
    "minutes= minuteDifference(s)\n",
    "outputTimeFormat(minutes)\n"
   ]
  },
  {
   "cell_type": "markdown",
   "metadata": {},
   "source": [
    "### Problem : Play with Numbers\n",
    "\n",
    "line1 : array size(n), no of queries(q)\n",
    "line2 : n array elements\n",
    "next q lines : query - sub array of the origin \n",
    "\n",
    "5 2\n",
    "1 2 3 4 5\n",
    "1 "
   ]
  },
  {
   "cell_type": "code",
   "execution_count": 4,
   "metadata": {},
   "outputs": [
    {
     "name": "stdout",
     "output_type": "stream",
     "text": [
      "5 3\n",
      "1 2 3 4 5\n",
      "1 3\n",
      "2\n",
      "2 4\n",
      "3\n",
      "2 5\n",
      "3\n"
     ]
    }
   ],
   "source": [
    "n=input().split()\n",
    "n[0],n[1]=int(n[0]),int(n[1])\n",
    "\n",
    "a=input().split() #read array elements\n",
    "\n",
    "sum=[] #initialize cumilative sum array\n",
    "\n",
    "#cumulative sum\n",
    "for i in range(0,n[0]):\n",
    "    if i==0:\n",
    "        sum.append(int(a[i]))\n",
    "    else:\n",
    "        sum.append(int(sum[i-1])+int(a[i]))\n",
    "\n",
    "del a\n",
    "\n",
    "# Read each query and calculate the average\n",
    "for k in range(0,n[1]):\n",
    "    y=input().split()\n",
    "    i=int(y[0])\n",
    "    j=int(y[1])\n",
    "    if i>1:\n",
    "        print((sum[j-1]-sum[i-2])//(j-i+1))\n",
    "    else:\n",
    "        print(sum[j-1]//(j-i+1))\n",
    "        \n",
    "\n",
    "\n"
   ]
  },
  {
   "cell_type": "code",
   "execution_count": null,
   "metadata": {},
   "outputs": [],
   "source": []
  }
 ],
 "metadata": {
  "kernelspec": {
   "display_name": "Python 3",
   "language": "python",
   "name": "python3"
  },
  "language_info": {
   "codemirror_mode": {
    "name": "ipython",
    "version": 3
   },
   "file_extension": ".py",
   "mimetype": "text/x-python",
   "name": "python",
   "nbconvert_exporter": "python",
   "pygments_lexer": "ipython3",
   "version": "3.7.3"
  }
 },
 "nbformat": 4,
 "nbformat_minor": 2
}
